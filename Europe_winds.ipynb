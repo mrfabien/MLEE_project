{
  "nbformat": 4,
  "nbformat_minor": 0,
  "metadata": {
    "colab": {
      "provenance": [],
      "authorship_tag": "ABX9TyNMyRrYhzA+A9vpClwLuW0t",
      "include_colab_link": true
    },
    "kernelspec": {
      "name": "python3",
      "display_name": "Python 3"
    },
    "language_info": {
      "name": "python"
    }
  },
  "cells": [
    {
      "cell_type": "markdown",
      "metadata": {
        "id": "view-in-github",
        "colab_type": "text"
      },
      "source": [
        "<a href=\"https://colab.research.google.com/github/mrfabien/MLEE_project/blob/main/Europe_winds.ipynb\" target=\"_parent\"><img src=\"https://colab.research.google.com/assets/colab-badge.svg\" alt=\"Open In Colab\"/></a>"
      ]
    },
    {
      "cell_type": "code",
      "source": [
        "# Librairies that are useful for this notebook\n",
        "\n",
        "import numpy as np\n",
        "import pandas as pd\n",
        "import matplotlib.pyplot as plt\n",
        "import pickle \n",
        "from sklearn.model_selection import train_test_split\n",
        "from sklearn.linear_model import LogisticRegression\n",
        "from sklearn.ensemble import RandomForestClassifier\n",
        "from sklearn.metrics import accuracy_score, ConfusionMatrixDisplay, confusion_matrix"
      ],
      "metadata": {
        "id": "FGpH5ClDTie1"
      },
      "execution_count": 1,
      "outputs": []
    },
    {
      "cell_type": "code",
      "source": [
        "# Panda version needs to be higher than 1.4.1 to extract the data\n",
        "\n",
        "pd.__version__\n",
        "%pip install pandas==1.4.1"
      ],
      "metadata": {
        "colab": {
          "base_uri": "https://localhost:8080/"
        },
        "id": "3IHzYJeHU7T0",
        "outputId": "d71e3649-e68c-4d10-ad0d-5e773004c8aa"
      },
      "execution_count": 2,
      "outputs": [
        {
          "output_type": "stream",
          "name": "stdout",
          "text": [
            "Looking in indexes: https://pypi.org/simple, https://us-python.pkg.dev/colab-wheels/public/simple/\n",
            "Requirement already satisfied: pandas==1.4.1 in /usr/local/lib/python3.8/dist-packages (1.4.1)\n",
            "Requirement already satisfied: numpy>=1.18.5 in /usr/local/lib/python3.8/dist-packages (from pandas==1.4.1) (1.21.6)\n",
            "Requirement already satisfied: python-dateutil>=2.8.1 in /usr/local/lib/python3.8/dist-packages (from pandas==1.4.1) (2.8.2)\n",
            "Requirement already satisfied: pytz>=2020.1 in /usr/local/lib/python3.8/dist-packages (from pandas==1.4.1) (2022.6)\n",
            "Requirement already satisfied: six>=1.5 in /usr/local/lib/python3.8/dist-packages (from python-dateutil>=2.8.1->pandas==1.4.1) (1.15.0)\n"
          ]
        }
      ]
    },
    {
      "cell_type": "code",
      "execution_count": 3,
      "metadata": {
        "id": "TeHQPY9PJbFt"
      },
      "outputs": [],
      "source": [
        "# Path of the dataset\n",
        "\n",
        "path_75 = '/content/df_europewinds_75.pkl'\n",
        "path_95 = '/content/df_europewinds_95.pkl'"
      ]
    },
    {
      "cell_type": "code",
      "source": [
        "data_75 = pd.read_pickle(open(path_75, 'rb'))\n",
        "data_75.head()"
      ],
      "metadata": {
        "colab": {
          "base_uri": "https://localhost:8080/",
          "height": 297
        },
        "id": "TkwZdmSpUA5w",
        "outputId": "29dea438-b536-4990-e902-cdd87d320524"
      },
      "execution_count": 4,
      "outputs": [
        {
          "output_type": "execute_result",
          "data": {
            "text/plain": [
              "   year  index  bss0_1_mean  bss0_1_std  bss0_6_mean  bss0_6_std  \\\n",
              "0     0      0     5.566746    1.409852    20.841965    2.403776   \n",
              "1     0      1     9.117043    2.212430    15.022616    1.769653   \n",
              "2     0      1     3.349157    1.543636    14.397669    1.997612   \n",
              "3     0      1     3.522637    1.343964     6.980061    1.558338   \n",
              "4     0      1     2.906259    1.306351    18.640661    0.778727   \n",
              "\n",
              "   rh1000_850_mean  rh1000_850_std  rh700_500_mean  rh700_500_std  ...  \\\n",
              "0        38.471111        5.528201       39.340164       4.507432  ...   \n",
              "1        91.150574        4.519768       95.393280       3.446400  ...   \n",
              "2        94.999939        3.762975       96.936325       2.179418  ...   \n",
              "3        86.109894        6.356337       87.546326       8.126277  ...   \n",
              "4        76.630363       11.766706       75.178864       5.603858  ...   \n",
              "\n",
              "   lapse_s1_mean  lapse_s1_std  lapse700_500_mean  lapse700_500_std  \\\n",
              "0       3.937160      1.835161           7.434533          0.157927   \n",
              "1       6.827473      0.361492           4.986881          0.123315   \n",
              "2       7.025648      0.705598           5.416773          0.279987   \n",
              "3       6.696632      0.315548           6.247573          0.096321   \n",
              "4       5.132456      0.965875           6.791603          0.163507   \n",
              "\n",
              "   total_totals_mean  total_totals_std  kindex_mean  kindex_std     cape_mean  \\\n",
              "0        -223.870316          2.545162  -241.414597    1.920714  1.470943e+06   \n",
              "1        -230.567856          1.326195  -256.065704    2.432208  7.463997e+05   \n",
              "2        -229.407089          0.455871  -254.261292    0.960245  7.808471e+05   \n",
              "3        -225.117264          0.556208  -242.131607    0.737710  3.299286e+05   \n",
              "4        -221.258957          0.740583  -236.590332    0.754513  8.468746e+05   \n",
              "\n",
              "       cape_std  \n",
              "0  47421.042969  \n",
              "1  29720.560547  \n",
              "2  32203.679688  \n",
              "3  44017.738281  \n",
              "4  69275.562500  \n",
              "\n",
              "[5 rows x 22 columns]"
            ],
            "text/html": [
              "\n",
              "  <div id=\"df-a0b22b4f-7a52-45c7-81ed-d0082ed59a3d\">\n",
              "    <div class=\"colab-df-container\">\n",
              "      <div>\n",
              "<style scoped>\n",
              "    .dataframe tbody tr th:only-of-type {\n",
              "        vertical-align: middle;\n",
              "    }\n",
              "\n",
              "    .dataframe tbody tr th {\n",
              "        vertical-align: top;\n",
              "    }\n",
              "\n",
              "    .dataframe thead th {\n",
              "        text-align: right;\n",
              "    }\n",
              "</style>\n",
              "<table border=\"1\" class=\"dataframe\">\n",
              "  <thead>\n",
              "    <tr style=\"text-align: right;\">\n",
              "      <th></th>\n",
              "      <th>year</th>\n",
              "      <th>index</th>\n",
              "      <th>bss0_1_mean</th>\n",
              "      <th>bss0_1_std</th>\n",
              "      <th>bss0_6_mean</th>\n",
              "      <th>bss0_6_std</th>\n",
              "      <th>rh1000_850_mean</th>\n",
              "      <th>rh1000_850_std</th>\n",
              "      <th>rh700_500_mean</th>\n",
              "      <th>rh700_500_std</th>\n",
              "      <th>...</th>\n",
              "      <th>lapse_s1_mean</th>\n",
              "      <th>lapse_s1_std</th>\n",
              "      <th>lapse700_500_mean</th>\n",
              "      <th>lapse700_500_std</th>\n",
              "      <th>total_totals_mean</th>\n",
              "      <th>total_totals_std</th>\n",
              "      <th>kindex_mean</th>\n",
              "      <th>kindex_std</th>\n",
              "      <th>cape_mean</th>\n",
              "      <th>cape_std</th>\n",
              "    </tr>\n",
              "  </thead>\n",
              "  <tbody>\n",
              "    <tr>\n",
              "      <th>0</th>\n",
              "      <td>0</td>\n",
              "      <td>0</td>\n",
              "      <td>5.566746</td>\n",
              "      <td>1.409852</td>\n",
              "      <td>20.841965</td>\n",
              "      <td>2.403776</td>\n",
              "      <td>38.471111</td>\n",
              "      <td>5.528201</td>\n",
              "      <td>39.340164</td>\n",
              "      <td>4.507432</td>\n",
              "      <td>...</td>\n",
              "      <td>3.937160</td>\n",
              "      <td>1.835161</td>\n",
              "      <td>7.434533</td>\n",
              "      <td>0.157927</td>\n",
              "      <td>-223.870316</td>\n",
              "      <td>2.545162</td>\n",
              "      <td>-241.414597</td>\n",
              "      <td>1.920714</td>\n",
              "      <td>1.470943e+06</td>\n",
              "      <td>47421.042969</td>\n",
              "    </tr>\n",
              "    <tr>\n",
              "      <th>1</th>\n",
              "      <td>0</td>\n",
              "      <td>1</td>\n",
              "      <td>9.117043</td>\n",
              "      <td>2.212430</td>\n",
              "      <td>15.022616</td>\n",
              "      <td>1.769653</td>\n",
              "      <td>91.150574</td>\n",
              "      <td>4.519768</td>\n",
              "      <td>95.393280</td>\n",
              "      <td>3.446400</td>\n",
              "      <td>...</td>\n",
              "      <td>6.827473</td>\n",
              "      <td>0.361492</td>\n",
              "      <td>4.986881</td>\n",
              "      <td>0.123315</td>\n",
              "      <td>-230.567856</td>\n",
              "      <td>1.326195</td>\n",
              "      <td>-256.065704</td>\n",
              "      <td>2.432208</td>\n",
              "      <td>7.463997e+05</td>\n",
              "      <td>29720.560547</td>\n",
              "    </tr>\n",
              "    <tr>\n",
              "      <th>2</th>\n",
              "      <td>0</td>\n",
              "      <td>1</td>\n",
              "      <td>3.349157</td>\n",
              "      <td>1.543636</td>\n",
              "      <td>14.397669</td>\n",
              "      <td>1.997612</td>\n",
              "      <td>94.999939</td>\n",
              "      <td>3.762975</td>\n",
              "      <td>96.936325</td>\n",
              "      <td>2.179418</td>\n",
              "      <td>...</td>\n",
              "      <td>7.025648</td>\n",
              "      <td>0.705598</td>\n",
              "      <td>5.416773</td>\n",
              "      <td>0.279987</td>\n",
              "      <td>-229.407089</td>\n",
              "      <td>0.455871</td>\n",
              "      <td>-254.261292</td>\n",
              "      <td>0.960245</td>\n",
              "      <td>7.808471e+05</td>\n",
              "      <td>32203.679688</td>\n",
              "    </tr>\n",
              "    <tr>\n",
              "      <th>3</th>\n",
              "      <td>0</td>\n",
              "      <td>1</td>\n",
              "      <td>3.522637</td>\n",
              "      <td>1.343964</td>\n",
              "      <td>6.980061</td>\n",
              "      <td>1.558338</td>\n",
              "      <td>86.109894</td>\n",
              "      <td>6.356337</td>\n",
              "      <td>87.546326</td>\n",
              "      <td>8.126277</td>\n",
              "      <td>...</td>\n",
              "      <td>6.696632</td>\n",
              "      <td>0.315548</td>\n",
              "      <td>6.247573</td>\n",
              "      <td>0.096321</td>\n",
              "      <td>-225.117264</td>\n",
              "      <td>0.556208</td>\n",
              "      <td>-242.131607</td>\n",
              "      <td>0.737710</td>\n",
              "      <td>3.299286e+05</td>\n",
              "      <td>44017.738281</td>\n",
              "    </tr>\n",
              "    <tr>\n",
              "      <th>4</th>\n",
              "      <td>0</td>\n",
              "      <td>1</td>\n",
              "      <td>2.906259</td>\n",
              "      <td>1.306351</td>\n",
              "      <td>18.640661</td>\n",
              "      <td>0.778727</td>\n",
              "      <td>76.630363</td>\n",
              "      <td>11.766706</td>\n",
              "      <td>75.178864</td>\n",
              "      <td>5.603858</td>\n",
              "      <td>...</td>\n",
              "      <td>5.132456</td>\n",
              "      <td>0.965875</td>\n",
              "      <td>6.791603</td>\n",
              "      <td>0.163507</td>\n",
              "      <td>-221.258957</td>\n",
              "      <td>0.740583</td>\n",
              "      <td>-236.590332</td>\n",
              "      <td>0.754513</td>\n",
              "      <td>8.468746e+05</td>\n",
              "      <td>69275.562500</td>\n",
              "    </tr>\n",
              "  </tbody>\n",
              "</table>\n",
              "<p>5 rows × 22 columns</p>\n",
              "</div>\n",
              "      <button class=\"colab-df-convert\" onclick=\"convertToInteractive('df-a0b22b4f-7a52-45c7-81ed-d0082ed59a3d')\"\n",
              "              title=\"Convert this dataframe to an interactive table.\"\n",
              "              style=\"display:none;\">\n",
              "        \n",
              "  <svg xmlns=\"http://www.w3.org/2000/svg\" height=\"24px\"viewBox=\"0 0 24 24\"\n",
              "       width=\"24px\">\n",
              "    <path d=\"M0 0h24v24H0V0z\" fill=\"none\"/>\n",
              "    <path d=\"M18.56 5.44l.94 2.06.94-2.06 2.06-.94-2.06-.94-.94-2.06-.94 2.06-2.06.94zm-11 1L8.5 8.5l.94-2.06 2.06-.94-2.06-.94L8.5 2.5l-.94 2.06-2.06.94zm10 10l.94 2.06.94-2.06 2.06-.94-2.06-.94-.94-2.06-.94 2.06-2.06.94z\"/><path d=\"M17.41 7.96l-1.37-1.37c-.4-.4-.92-.59-1.43-.59-.52 0-1.04.2-1.43.59L10.3 9.45l-7.72 7.72c-.78.78-.78 2.05 0 2.83L4 21.41c.39.39.9.59 1.41.59.51 0 1.02-.2 1.41-.59l7.78-7.78 2.81-2.81c.8-.78.8-2.07 0-2.86zM5.41 20L4 18.59l7.72-7.72 1.47 1.35L5.41 20z\"/>\n",
              "  </svg>\n",
              "      </button>\n",
              "      \n",
              "  <style>\n",
              "    .colab-df-container {\n",
              "      display:flex;\n",
              "      flex-wrap:wrap;\n",
              "      gap: 12px;\n",
              "    }\n",
              "\n",
              "    .colab-df-convert {\n",
              "      background-color: #E8F0FE;\n",
              "      border: none;\n",
              "      border-radius: 50%;\n",
              "      cursor: pointer;\n",
              "      display: none;\n",
              "      fill: #1967D2;\n",
              "      height: 32px;\n",
              "      padding: 0 0 0 0;\n",
              "      width: 32px;\n",
              "    }\n",
              "\n",
              "    .colab-df-convert:hover {\n",
              "      background-color: #E2EBFA;\n",
              "      box-shadow: 0px 1px 2px rgba(60, 64, 67, 0.3), 0px 1px 3px 1px rgba(60, 64, 67, 0.15);\n",
              "      fill: #174EA6;\n",
              "    }\n",
              "\n",
              "    [theme=dark] .colab-df-convert {\n",
              "      background-color: #3B4455;\n",
              "      fill: #D2E3FC;\n",
              "    }\n",
              "\n",
              "    [theme=dark] .colab-df-convert:hover {\n",
              "      background-color: #434B5C;\n",
              "      box-shadow: 0px 1px 3px 1px rgba(0, 0, 0, 0.15);\n",
              "      filter: drop-shadow(0px 1px 2px rgba(0, 0, 0, 0.3));\n",
              "      fill: #FFFFFF;\n",
              "    }\n",
              "  </style>\n",
              "\n",
              "      <script>\n",
              "        const buttonEl =\n",
              "          document.querySelector('#df-a0b22b4f-7a52-45c7-81ed-d0082ed59a3d button.colab-df-convert');\n",
              "        buttonEl.style.display =\n",
              "          google.colab.kernel.accessAllowed ? 'block' : 'none';\n",
              "\n",
              "        async function convertToInteractive(key) {\n",
              "          const element = document.querySelector('#df-a0b22b4f-7a52-45c7-81ed-d0082ed59a3d');\n",
              "          const dataTable =\n",
              "            await google.colab.kernel.invokeFunction('convertToInteractive',\n",
              "                                                     [key], {});\n",
              "          if (!dataTable) return;\n",
              "\n",
              "          const docLinkHtml = 'Like what you see? Visit the ' +\n",
              "            '<a target=\"_blank\" href=https://colab.research.google.com/notebooks/data_table.ipynb>data table notebook</a>'\n",
              "            + ' to learn more about interactive tables.';\n",
              "          element.innerHTML = '';\n",
              "          dataTable['output_type'] = 'display_data';\n",
              "          await google.colab.output.renderOutput(dataTable, element);\n",
              "          const docLink = document.createElement('div');\n",
              "          docLink.innerHTML = docLinkHtml;\n",
              "          element.appendChild(docLink);\n",
              "        }\n",
              "      </script>\n",
              "    </div>\n",
              "  </div>\n",
              "  "
            ]
          },
          "metadata": {},
          "execution_count": 4
        }
      ]
    },
    {
      "cell_type": "code",
      "source": [
        "data_95 = pd.read_pickle(open(path_95, 'rb'))\n",
        "data_95.head()"
      ],
      "metadata": {
        "colab": {
          "base_uri": "https://localhost:8080/",
          "height": 297
        },
        "id": "jodHrpzEVZ2R",
        "outputId": "7f188e65-4d75-429a-86cb-9a570e00d226"
      },
      "execution_count": 5,
      "outputs": [
        {
          "output_type": "execute_result",
          "data": {
            "text/plain": [
              "   year  index  bss0_1_mean  bss0_1_std  bss0_6_mean  bss0_6_std  \\\n",
              "0     0      0     4.277383    1.872966     8.982351    0.724258   \n",
              "1     0      0     1.802277    0.753601    15.204497    0.530935   \n",
              "2     0      0     0.715803    0.243926    16.503664    0.667165   \n",
              "3     0      0     1.606050    1.158768    18.095135    1.584871   \n",
              "4     0      0     0.307757    0.309118    13.387435    1.153533   \n",
              "\n",
              "   rh1000_850_mean  rh1000_850_std  rh700_500_mean  rh700_500_std  ...  \\\n",
              "0        93.492226        5.035859       88.534180       5.347477  ...   \n",
              "1        59.056320        1.762953       41.138809      20.166151  ...   \n",
              "2        59.690506        3.856417       24.401155       8.628385  ...   \n",
              "3        29.221788        1.806868       54.221584       3.082348  ...   \n",
              "4        29.046917        3.302094       55.367680       3.316934  ...   \n",
              "\n",
              "   lapse_s1_mean  lapse_s1_std  lapse700_500_mean  lapse700_500_std  \\\n",
              "0       6.906764      1.327869           6.136250          0.066148   \n",
              "1       7.818282      0.271740           6.264568          0.162757   \n",
              "2       7.912159      0.212544           6.037870          0.176981   \n",
              "3       7.784466      0.688592           8.378917          0.154145   \n",
              "4       6.988350      0.134230           8.529189          0.123378   \n",
              "\n",
              "   total_totals_mean  total_totals_std  kindex_mean  kindex_std     cape_mean  \\\n",
              "0        -229.698380          2.886750  -253.835098    3.049098  2.026168e+05   \n",
              "1        -229.545853          2.025261  -257.027924    5.805379  1.180107e+06   \n",
              "2        -230.075562          1.594442  -261.277252    2.990737  1.271284e+06   \n",
              "3        -220.908508          0.992791  -244.325333    1.691479  1.316592e+06   \n",
              "4        -221.513565          0.656967  -246.688919    0.659492  1.148537e+06   \n",
              "\n",
              "       cape_std  \n",
              "0  14708.218750  \n",
              "1  50493.390625  \n",
              "2  24269.503906  \n",
              "3  54253.433594  \n",
              "4  25503.769531  \n",
              "\n",
              "[5 rows x 22 columns]"
            ],
            "text/html": [
              "\n",
              "  <div id=\"df-8983fab3-7995-4a18-8ff1-5ce1960938ed\">\n",
              "    <div class=\"colab-df-container\">\n",
              "      <div>\n",
              "<style scoped>\n",
              "    .dataframe tbody tr th:only-of-type {\n",
              "        vertical-align: middle;\n",
              "    }\n",
              "\n",
              "    .dataframe tbody tr th {\n",
              "        vertical-align: top;\n",
              "    }\n",
              "\n",
              "    .dataframe thead th {\n",
              "        text-align: right;\n",
              "    }\n",
              "</style>\n",
              "<table border=\"1\" class=\"dataframe\">\n",
              "  <thead>\n",
              "    <tr style=\"text-align: right;\">\n",
              "      <th></th>\n",
              "      <th>year</th>\n",
              "      <th>index</th>\n",
              "      <th>bss0_1_mean</th>\n",
              "      <th>bss0_1_std</th>\n",
              "      <th>bss0_6_mean</th>\n",
              "      <th>bss0_6_std</th>\n",
              "      <th>rh1000_850_mean</th>\n",
              "      <th>rh1000_850_std</th>\n",
              "      <th>rh700_500_mean</th>\n",
              "      <th>rh700_500_std</th>\n",
              "      <th>...</th>\n",
              "      <th>lapse_s1_mean</th>\n",
              "      <th>lapse_s1_std</th>\n",
              "      <th>lapse700_500_mean</th>\n",
              "      <th>lapse700_500_std</th>\n",
              "      <th>total_totals_mean</th>\n",
              "      <th>total_totals_std</th>\n",
              "      <th>kindex_mean</th>\n",
              "      <th>kindex_std</th>\n",
              "      <th>cape_mean</th>\n",
              "      <th>cape_std</th>\n",
              "    </tr>\n",
              "  </thead>\n",
              "  <tbody>\n",
              "    <tr>\n",
              "      <th>0</th>\n",
              "      <td>0</td>\n",
              "      <td>0</td>\n",
              "      <td>4.277383</td>\n",
              "      <td>1.872966</td>\n",
              "      <td>8.982351</td>\n",
              "      <td>0.724258</td>\n",
              "      <td>93.492226</td>\n",
              "      <td>5.035859</td>\n",
              "      <td>88.534180</td>\n",
              "      <td>5.347477</td>\n",
              "      <td>...</td>\n",
              "      <td>6.906764</td>\n",
              "      <td>1.327869</td>\n",
              "      <td>6.136250</td>\n",
              "      <td>0.066148</td>\n",
              "      <td>-229.698380</td>\n",
              "      <td>2.886750</td>\n",
              "      <td>-253.835098</td>\n",
              "      <td>3.049098</td>\n",
              "      <td>2.026168e+05</td>\n",
              "      <td>14708.218750</td>\n",
              "    </tr>\n",
              "    <tr>\n",
              "      <th>1</th>\n",
              "      <td>0</td>\n",
              "      <td>0</td>\n",
              "      <td>1.802277</td>\n",
              "      <td>0.753601</td>\n",
              "      <td>15.204497</td>\n",
              "      <td>0.530935</td>\n",
              "      <td>59.056320</td>\n",
              "      <td>1.762953</td>\n",
              "      <td>41.138809</td>\n",
              "      <td>20.166151</td>\n",
              "      <td>...</td>\n",
              "      <td>7.818282</td>\n",
              "      <td>0.271740</td>\n",
              "      <td>6.264568</td>\n",
              "      <td>0.162757</td>\n",
              "      <td>-229.545853</td>\n",
              "      <td>2.025261</td>\n",
              "      <td>-257.027924</td>\n",
              "      <td>5.805379</td>\n",
              "      <td>1.180107e+06</td>\n",
              "      <td>50493.390625</td>\n",
              "    </tr>\n",
              "    <tr>\n",
              "      <th>2</th>\n",
              "      <td>0</td>\n",
              "      <td>0</td>\n",
              "      <td>0.715803</td>\n",
              "      <td>0.243926</td>\n",
              "      <td>16.503664</td>\n",
              "      <td>0.667165</td>\n",
              "      <td>59.690506</td>\n",
              "      <td>3.856417</td>\n",
              "      <td>24.401155</td>\n",
              "      <td>8.628385</td>\n",
              "      <td>...</td>\n",
              "      <td>7.912159</td>\n",
              "      <td>0.212544</td>\n",
              "      <td>6.037870</td>\n",
              "      <td>0.176981</td>\n",
              "      <td>-230.075562</td>\n",
              "      <td>1.594442</td>\n",
              "      <td>-261.277252</td>\n",
              "      <td>2.990737</td>\n",
              "      <td>1.271284e+06</td>\n",
              "      <td>24269.503906</td>\n",
              "    </tr>\n",
              "    <tr>\n",
              "      <th>3</th>\n",
              "      <td>0</td>\n",
              "      <td>0</td>\n",
              "      <td>1.606050</td>\n",
              "      <td>1.158768</td>\n",
              "      <td>18.095135</td>\n",
              "      <td>1.584871</td>\n",
              "      <td>29.221788</td>\n",
              "      <td>1.806868</td>\n",
              "      <td>54.221584</td>\n",
              "      <td>3.082348</td>\n",
              "      <td>...</td>\n",
              "      <td>7.784466</td>\n",
              "      <td>0.688592</td>\n",
              "      <td>8.378917</td>\n",
              "      <td>0.154145</td>\n",
              "      <td>-220.908508</td>\n",
              "      <td>0.992791</td>\n",
              "      <td>-244.325333</td>\n",
              "      <td>1.691479</td>\n",
              "      <td>1.316592e+06</td>\n",
              "      <td>54253.433594</td>\n",
              "    </tr>\n",
              "    <tr>\n",
              "      <th>4</th>\n",
              "      <td>0</td>\n",
              "      <td>0</td>\n",
              "      <td>0.307757</td>\n",
              "      <td>0.309118</td>\n",
              "      <td>13.387435</td>\n",
              "      <td>1.153533</td>\n",
              "      <td>29.046917</td>\n",
              "      <td>3.302094</td>\n",
              "      <td>55.367680</td>\n",
              "      <td>3.316934</td>\n",
              "      <td>...</td>\n",
              "      <td>6.988350</td>\n",
              "      <td>0.134230</td>\n",
              "      <td>8.529189</td>\n",
              "      <td>0.123378</td>\n",
              "      <td>-221.513565</td>\n",
              "      <td>0.656967</td>\n",
              "      <td>-246.688919</td>\n",
              "      <td>0.659492</td>\n",
              "      <td>1.148537e+06</td>\n",
              "      <td>25503.769531</td>\n",
              "    </tr>\n",
              "  </tbody>\n",
              "</table>\n",
              "<p>5 rows × 22 columns</p>\n",
              "</div>\n",
              "      <button class=\"colab-df-convert\" onclick=\"convertToInteractive('df-8983fab3-7995-4a18-8ff1-5ce1960938ed')\"\n",
              "              title=\"Convert this dataframe to an interactive table.\"\n",
              "              style=\"display:none;\">\n",
              "        \n",
              "  <svg xmlns=\"http://www.w3.org/2000/svg\" height=\"24px\"viewBox=\"0 0 24 24\"\n",
              "       width=\"24px\">\n",
              "    <path d=\"M0 0h24v24H0V0z\" fill=\"none\"/>\n",
              "    <path d=\"M18.56 5.44l.94 2.06.94-2.06 2.06-.94-2.06-.94-.94-2.06-.94 2.06-2.06.94zm-11 1L8.5 8.5l.94-2.06 2.06-.94-2.06-.94L8.5 2.5l-.94 2.06-2.06.94zm10 10l.94 2.06.94-2.06 2.06-.94-2.06-.94-.94-2.06-.94 2.06-2.06.94z\"/><path d=\"M17.41 7.96l-1.37-1.37c-.4-.4-.92-.59-1.43-.59-.52 0-1.04.2-1.43.59L10.3 9.45l-7.72 7.72c-.78.78-.78 2.05 0 2.83L4 21.41c.39.39.9.59 1.41.59.51 0 1.02-.2 1.41-.59l7.78-7.78 2.81-2.81c.8-.78.8-2.07 0-2.86zM5.41 20L4 18.59l7.72-7.72 1.47 1.35L5.41 20z\"/>\n",
              "  </svg>\n",
              "      </button>\n",
              "      \n",
              "  <style>\n",
              "    .colab-df-container {\n",
              "      display:flex;\n",
              "      flex-wrap:wrap;\n",
              "      gap: 12px;\n",
              "    }\n",
              "\n",
              "    .colab-df-convert {\n",
              "      background-color: #E8F0FE;\n",
              "      border: none;\n",
              "      border-radius: 50%;\n",
              "      cursor: pointer;\n",
              "      display: none;\n",
              "      fill: #1967D2;\n",
              "      height: 32px;\n",
              "      padding: 0 0 0 0;\n",
              "      width: 32px;\n",
              "    }\n",
              "\n",
              "    .colab-df-convert:hover {\n",
              "      background-color: #E2EBFA;\n",
              "      box-shadow: 0px 1px 2px rgba(60, 64, 67, 0.3), 0px 1px 3px 1px rgba(60, 64, 67, 0.15);\n",
              "      fill: #174EA6;\n",
              "    }\n",
              "\n",
              "    [theme=dark] .colab-df-convert {\n",
              "      background-color: #3B4455;\n",
              "      fill: #D2E3FC;\n",
              "    }\n",
              "\n",
              "    [theme=dark] .colab-df-convert:hover {\n",
              "      background-color: #434B5C;\n",
              "      box-shadow: 0px 1px 3px 1px rgba(0, 0, 0, 0.15);\n",
              "      filter: drop-shadow(0px 1px 2px rgba(0, 0, 0, 0.3));\n",
              "      fill: #FFFFFF;\n",
              "    }\n",
              "  </style>\n",
              "\n",
              "      <script>\n",
              "        const buttonEl =\n",
              "          document.querySelector('#df-8983fab3-7995-4a18-8ff1-5ce1960938ed button.colab-df-convert');\n",
              "        buttonEl.style.display =\n",
              "          google.colab.kernel.accessAllowed ? 'block' : 'none';\n",
              "\n",
              "        async function convertToInteractive(key) {\n",
              "          const element = document.querySelector('#df-8983fab3-7995-4a18-8ff1-5ce1960938ed');\n",
              "          const dataTable =\n",
              "            await google.colab.kernel.invokeFunction('convertToInteractive',\n",
              "                                                     [key], {});\n",
              "          if (!dataTable) return;\n",
              "\n",
              "          const docLinkHtml = 'Like what you see? Visit the ' +\n",
              "            '<a target=\"_blank\" href=https://colab.research.google.com/notebooks/data_table.ipynb>data table notebook</a>'\n",
              "            + ' to learn more about interactive tables.';\n",
              "          element.innerHTML = '';\n",
              "          dataTable['output_type'] = 'display_data';\n",
              "          await google.colab.output.renderOutput(dataTable, element);\n",
              "          const docLink = document.createElement('div');\n",
              "          docLink.innerHTML = docLinkHtml;\n",
              "          element.appendChild(docLink);\n",
              "        }\n",
              "      </script>\n",
              "    </div>\n",
              "  </div>\n",
              "  "
            ]
          },
          "metadata": {},
          "execution_count": 5
        }
      ]
    },
    {
      "cell_type": "code",
      "source": [
        "# Intensity 1 means extreme convective winds bursts and 0 means moderate convective bursts\n",
        "\n",
        "data_75['intensity']=0\n",
        "data_95['intensity']=1"
      ],
      "metadata": {
        "id": "rN3Bwoo_VuLX"
      },
      "execution_count": 6,
      "outputs": []
    },
    {
      "cell_type": "code",
      "source": [
        "# Merge the 2 dataset and separate the features from the intensity\n",
        "\n",
        "data_merged = pd.concat((data_75,data_95))\n",
        "y = data_merged['intensity']\n",
        "X = data_merged.iloc[:,2:-1]"
      ],
      "metadata": {
        "id": "QBXdUb-tWHSN"
      },
      "execution_count": 7,
      "outputs": []
    },
    {
      "cell_type": "code",
      "source": [
        "# Store the name of each feature\n",
        "\n",
        "features_names = data_merged.columns[2:-1]"
      ],
      "metadata": {
        "id": "GYCWYwZfexWL"
      },
      "execution_count": 8,
      "outputs": []
    },
    {
      "cell_type": "code",
      "source": [
        "# Split the dataset into a training (64%), validation (16%), and testing set (20%)\n",
        "\n",
        "X_train_valid, X_test, y_train_valid, y_test = train_test_split(X, y, train_size=0.8)\n",
        "X_train, X_valid, y_train, y_valid = train_test_split(X_train_valid, y_train_valid, train_size=0.8)"
      ],
      "metadata": {
        "id": "z4sps3vXX5cB"
      },
      "execution_count": 9,
      "outputs": []
    },
    {
      "cell_type": "code",
      "source": [
        "# Let's try to predict the 2 classes of winds bursts with Logistic Regression  \n",
        "\n",
        "lr = LogisticRegression()\n",
        "lr.fit(X_train, y_train)"
      ],
      "metadata": {
        "colab": {
          "base_uri": "https://localhost:8080/"
        },
        "id": "C5haDirDZqTy",
        "outputId": "847782d3-f48c-485a-81c9-761ca84abdec"
      },
      "execution_count": 10,
      "outputs": [
        {
          "output_type": "execute_result",
          "data": {
            "text/plain": [
              "LogisticRegression()"
            ]
          },
          "metadata": {},
          "execution_count": 10
        }
      ]
    },
    {
      "cell_type": "code",
      "source": [
        "# Let's try a prediction\n",
        "\n",
        "prediction_lr = lr.predict(X_test)\n",
        "\n",
        "lr_accuracy = accuracy_score(y_test, prediction_lr)  # Feed in the truth and predictions\n",
        "\n",
        "print(f\"LR Model Accuracy: {lr_accuracy:.2%}\")"
      ],
      "metadata": {
        "id": "bbuGoMCDZqXF",
        "outputId": "f03ef373-e793-4f33-f8fc-cb9d681102bb",
        "colab": {
          "base_uri": "https://localhost:8080/"
        }
      },
      "execution_count": 11,
      "outputs": [
        {
          "output_type": "stream",
          "name": "stdout",
          "text": [
            "LR Model Accuracy: 58.11%\n"
          ]
        }
      ]
    },
    {
      "cell_type": "code",
      "source": [
        "# The accuracy is not good, less than 60%, so let's try to adujst the solver\n",
        "\n",
        "lr2 = LogisticRegression(solver=\"liblinear\")\n",
        "lr2.fit(X_train, y_train)"
      ],
      "metadata": {
        "id": "b0UdtiWHeFAD",
        "outputId": "bf1ee797-f38e-48df-d0c6-4aaf97bd8490",
        "colab": {
          "base_uri": "https://localhost:8080/"
        }
      },
      "execution_count": 12,
      "outputs": [
        {
          "output_type": "execute_result",
          "data": {
            "text/plain": [
              "LogisticRegression(solver='liblinear')"
            ]
          },
          "metadata": {},
          "execution_count": 12
        }
      ]
    },
    {
      "cell_type": "code",
      "source": [
        "# Let's try a prediction\n",
        "\n",
        "prediction2_lr = lr2.predict(X_test)\n",
        "\n",
        "lr2_accuracy = accuracy_score(y_test, prediction2_lr)  # Feed in the truth and predictions\n",
        "\n",
        "print(f\"LR Model Accuracy: {lr2_accuracy:.2%}\")"
      ],
      "metadata": {
        "id": "6HGE7eoledj2",
        "outputId": "41f016b4-b176-410c-adb6-472eb96b3086",
        "colab": {
          "base_uri": "https://localhost:8080/"
        }
      },
      "execution_count": 13,
      "outputs": [
        {
          "output_type": "stream",
          "name": "stdout",
          "text": [
            "LR Model Accuracy: 60.50%\n"
          ]
        }
      ]
    },
    {
      "cell_type": "code",
      "source": [
        "# The accuracy is still not good, just above 60%. Let's see the feature importance\n",
        "\n",
        "print(lr2.coef_)\n",
        "np.shape(lr2.coef_)"
      ],
      "metadata": {
        "colab": {
          "base_uri": "https://localhost:8080/"
        },
        "id": "3QvYadPBZ_iO",
        "outputId": "df36a66f-705a-4c6b-c93c-594549bffaaa"
      },
      "execution_count": 14,
      "outputs": [
        {
          "output_type": "stream",
          "name": "stdout",
          "text": [
            "[[ 5.90913708e-03  1.17069735e-03  1.73815862e-04  7.69946832e-04\n",
            "   9.44865270e-03 -2.11762691e-03  9.42615230e-03 -2.28404345e-04\n",
            "   6.75636384e-04  3.64516533e-05 -8.89398265e-04 -2.14905366e-04\n",
            "  -7.08188526e-04  2.71945327e-05  5.66998272e-03  4.98642021e-05\n",
            "   3.89821865e-03  4.13784127e-05  3.02077277e-07  9.96623235e-07]]\n"
          ]
        },
        {
          "output_type": "execute_result",
          "data": {
            "text/plain": [
              "(1, 20)"
            ]
          },
          "metadata": {},
          "execution_count": 14
        }
      ]
    },
    {
      "cell_type": "code",
      "source": [
        "# Calculation of the standard deviation\n",
        "\n",
        "std_train = X_train.std(axis=0)"
      ],
      "metadata": {
        "id": "P55jOwIgauEw"
      },
      "execution_count": 17,
      "outputs": []
    },
    {
      "cell_type": "code",
      "source": [
        "# Graphic of the feature importance\n",
        "\n",
        "features_importance = std_train*lr2.coef_[0,:]\n",
        "\n",
        "fig, ax = plt.subplots(1,1, figsize=(12,9))\n",
        "ax.barh(features_names,features_importance)"
      ],
      "metadata": {
        "colab": {
          "base_uri": "https://localhost:8080/",
          "height": 554
        },
        "id": "UKqRHhk2abFh",
        "outputId": "9e3cdf0f-9334-4a18-c932-97d4f04d621f"
      },
      "execution_count": 16,
      "outputs": [
        {
          "output_type": "execute_result",
          "data": {
            "text/plain": [
              "<BarContainer object of 20 artists>"
            ]
          },
          "metadata": {},
          "execution_count": 16
        },
        {
          "output_type": "display_data",
          "data": {
            "text/plain": [
              "<Figure size 864x648 with 1 Axes>"
            ],
            "image/png": "[encoded data removed]"
          },
          "metadata": {
            "needs_background": "light"
          }
        }
      ]
    },
    {
      "cell_type": "code",
      "source": [
        "# Now let's try with RandomForest\n",
        "\n",
        "rf = RandomForestClassifier()\n",
        "rf.fit(X_train,y_train)"
      ],
      "metadata": {
        "colab": {
          "base_uri": "https://localhost:8080/"
        },
        "id": "ZLUIsPymcWhN",
        "outputId": "3bfa91b4-6c36-4e26-ff21-d7923c74c113"
      },
      "execution_count": 18,
      "outputs": [
        {
          "output_type": "execute_result",
          "data": {
            "text/plain": [
              "RandomForestClassifier()"
            ]
          },
          "metadata": {},
          "execution_count": 18
        }
      ]
    },
    {
      "cell_type": "code",
      "source": [
        "# Let's see if the predictions are better than the Logistic Regression\n",
        "\n",
        "prediction_rf = rf.predict(X_test)\n",
        "rf_accuracy = accuracy_score(y_test, prediction_rf)  # Feed in the truth and predictions\n",
        "\n",
        "print(f\"RF Model Accuracy: {rf_accuracy:.2%}\")"
      ],
      "metadata": {
        "id": "RobtHYeRmEqJ",
        "outputId": "664ce506-ef49-4aeb-99bc-4f207cbf70d3",
        "colab": {
          "base_uri": "https://localhost:8080/"
        }
      },
      "execution_count": 19,
      "outputs": [
        {
          "output_type": "stream",
          "name": "stdout",
          "text": [
            "RF Model Accuracy: 66.68%\n"
          ]
        }
      ]
    },
    {
      "cell_type": "code",
      "source": [
        "# Better from the first try, let's try to improve it\n",
        "\n",
        "rf2 = RandomForestClassifier(n_estimators=400\n",
        "                                        )\n",
        "rf2.fit(X_train,y_train)"
      ],
      "metadata": {
        "id": "tHBFCL17nVtN",
        "outputId": "3b6cd2f9-7cb9-4902-97e5-19d8e926942d",
        "colab": {
          "base_uri": "https://localhost:8080/"
        }
      },
      "execution_count": 20,
      "outputs": [
        {
          "output_type": "execute_result",
          "data": {
            "text/plain": [
              "RandomForestClassifier(n_estimators=400)"
            ]
          },
          "metadata": {},
          "execution_count": 20
        }
      ]
    },
    {
      "cell_type": "code",
      "source": [
        "# Let's see if the predictions are better than the previous one\n",
        "\n",
        "prediction_rf2 = rf2.predict(X_test)\n",
        "rf2_accuracy = accuracy_score(y_test, prediction_rf2)  # Feed in the truth and predictions\n",
        "\n",
        "print(f\"RF Model Accuracy: {rf2_accuracy:.2%}\")"
      ],
      "metadata": {
        "id": "GPlqsP3jnj2R",
        "outputId": "a00fbd0b-c3b4-4d48-e29a-81f8852f7f85",
        "colab": {
          "base_uri": "https://localhost:8080/"
        }
      },
      "execution_count": 21,
      "outputs": [
        {
          "output_type": "stream",
          "name": "stdout",
          "text": [
            "RF Model Accuracy: 67.64%\n"
          ]
        }
      ]
    },
    {
      "cell_type": "code",
      "source": [
        "# Results are barely better than the first try with RF, let's see the confusion matrix\n",
        "\n",
        "cm = confusion_matrix(y_test, prediction_rf2, normalize='pred')\n",
        "disp = ConfusionMatrixDisplay(confusion_matrix = cm)\n",
        "disp.plot()"
      ],
      "metadata": {
        "id": "EyqwKgAso9Mz",
        "outputId": "a7e503ea-d822-433b-b064-feaa4e5a8056",
        "colab": {
          "base_uri": "https://localhost:8080/",
          "height": 296
        }
      },
      "execution_count": 22,
      "outputs": [
        {
          "output_type": "execute_result",
          "data": {
            "text/plain": [
              "<sklearn.metrics._plot.confusion_matrix.ConfusionMatrixDisplay at 0x7fb344d7f5b0>"
            ]
          },
          "metadata": {},
          "execution_count": 22
        },
        {
          "output_type": "display_data",
          "data": {
            "text/plain": [
              "<Figure size 432x288 with 2 Axes>"
            ],
            "image/png": "[encoded data removed]"
          },
          "metadata": {
            "needs_background": "light"
          }
        }
      ]
    },
    {
      "cell_type": "code",
      "source": [
        "# Since the performance are not clearly better than the LR, let's see what features are important for the RF\n",
        "# The following cell was copied from https://scikit-learn.org/stable/auto_examples/ensemble/plot_forest_importances.html\n",
        "# This cell mainly extract the importances of each feature and standardized them\n",
        "# It also check how much time it takes\n",
        "\n",
        "import time\n",
        "\n",
        "start_time = time.time()\n",
        "importances = rf2.feature_importances_\n",
        "std = np.std([tree.feature_importances_ for tree in rf2.estimators_], axis=0)\n",
        "elapsed_time = time.time() - start_time\n",
        "\n",
        "print(f\"Elapsed time to compute the importances: {elapsed_time:.3f} seconds\")"
      ],
      "metadata": {
        "colab": {
          "base_uri": "https://localhost:8080/"
        },
        "id": "ob9Fby0DdqVx",
        "outputId": "acdd8cb3-cde5-4525-b751-121dca226e70"
      },
      "execution_count": 23,
      "outputs": [
        {
          "output_type": "stream",
          "name": "stdout",
          "text": [
            "Elapsed time to compute the importances: 0.338 seconds\n"
          ]
        }
      ]
    },
    {
      "cell_type": "code",
      "source": [
        "# Let's see the features importance\n",
        "# This cell was copied also from https://scikit-learn.org/stable/auto_examples/ensemble/plot_forest_importances.html\n",
        "\n",
        "forest_importances = pd.Series(importances, index=features_names)\n",
        "\n",
        "fig, ax = plt.subplots()\n",
        "forest_importances.plot.bar(yerr=std, ax=ax)\n",
        "ax.set_title(\"Feature importances using MDI\")\n",
        "ax.set_ylabel(\"Mean decrease in impurity\")\n",
        "fig.tight_layout()"
      ],
      "metadata": {
        "colab": {
          "base_uri": "https://localhost:8080/",
          "height": 297
        },
        "id": "ofQBXwZed8YI",
        "outputId": "8c4f4003-a594-48aa-dc1c-daa6f8bd6f38"
      },
      "execution_count": 24,
      "outputs": [
        {
          "output_type": "display_data",
          "data": {
            "text/plain": [
              "<Figure size 432x288 with 1 Axes>"
            ],
            "image/png": "[encoded data removed]"
          },
          "metadata": {
            "needs_background": "light"
          }
        }
      ]
    },
    {
      "cell_type": "code",
      "source": [
        "# Let's try to permute the features and see how the model refit them\n",
        "# Again, this was copied from https://scikit-learn.org/stable/auto_examples/ensemble/plot_forest_importances.html\n",
        "\n",
        "from sklearn.inspection import permutation_importance\n",
        "\n",
        "start_time = time.time()\n",
        "result = permutation_importance(\n",
        "    rf, X_test, y_test, n_repeats=10, random_state=42, n_jobs=2\n",
        ")\n",
        "elapsed_time = time.time() - start_time\n",
        "print(f\"Elapsed time to compute the importances: {elapsed_time:.3f} seconds\")\n",
        "\n",
        "forest_importances = pd.Series(result.importances_mean, index=features_names)"
      ],
      "metadata": {
        "colab": {
          "base_uri": "https://localhost:8080/"
        },
        "id": "PHDTm3pWfLYq",
        "outputId": "35decf0f-e67a-4f57-f792-fc59aca0f392"
      },
      "execution_count": 25,
      "outputs": [
        {
          "output_type": "stream",
          "name": "stdout",
          "text": [
            "Elapsed time to compute the importances: 60.340 seconds\n"
          ]
        }
      ]
    },
    {
      "cell_type": "code",
      "source": [
        "# Let's see the resutls. The higher the bar is, the more important the feature is\n",
        "\n",
        "fig, ax = plt.subplots()\n",
        "forest_importances.plot.bar(yerr=result.importances_std, ax=ax)\n",
        "ax.set_title(\"Feature importances using permutation on full model\")\n",
        "ax.set_ylabel(\"Mean accuracy decrease\")\n",
        "fig.tight_layout()\n",
        "plt.show()"
      ],
      "metadata": {
        "colab": {
          "base_uri": "https://localhost:8080/",
          "height": 297
        },
        "id": "4OerjIyjfTz9",
        "outputId": "cf60843d-0b45-4b57-e223-bc43b93b9119"
      },
      "execution_count": 26,
      "outputs": [
        {
          "output_type": "display_data",
          "data": {
            "text/plain": [
              "<Figure size 432x288 with 1 Axes>"
            ],
            "image/png": "[encoded data removed]"
          },
          "metadata": {
            "needs_background": "light"
          }
        }
      ]
    }
  ]
}