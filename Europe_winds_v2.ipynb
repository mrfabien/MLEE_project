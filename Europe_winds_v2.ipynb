{
  "nbformat": 4,
  "nbformat_minor": 0,
  "metadata": {
    "colab": {
      "provenance": [],
      "mount_file_id": "https://github.com/mrfabien/MLEE_project/blob/main/Europe_winds.ipynb",
      "authorship_tag": "ABX9TyPmHIIczbxiOlX6RxjDh+Th",
      "include_colab_link": true
    },
    "kernelspec": {
      "name": "python3",
      "display_name": "Python 3"
    },
    "language_info": {
      "name": "python"
    },
    "accelerator": "GPU",
    "gpuClass": "standard"
  },
  "cells": [
    {
      "cell_type": "markdown",
      "metadata": {
        "id": "view-in-github",
        "colab_type": "text"
      },
      "source": [
        "<a href=\"https://colab.research.google.com/github/mrfabien/MLEE_project/blob/main/Europe_winds_v2.ipynb\" target=\"_parent\"><img src=\"https://colab.research.google.com/assets/colab-badge.svg\" alt=\"Open In Colab\"/></a>"
      ]
    },
    {
      "cell_type": "markdown",
      "source": [
        "# Notebook Setup\n",
        "\n",
        "A few librairies are going to be used, so let's install them. For panda, you'll need to restart the kernel to update it, otherwise it won't work."
      ],
      "metadata": {
        "id": "jaNNYvXQh07x"
      }
    },
    {
      "cell_type": "code",
      "source": [
        "# Panda version needs to be higher than 1.4.1 to extract the data\n",
        "\n",
        "import numpy as np\n",
        "import pandas as pd\n",
        "import matplotlib.pyplot as plt\n",
        "import pickle \n",
        "import sklearn\n",
        "from sklearn.model_selection import train_test_split, GridSearchCV, RandomizedSearchCV\n",
        "from sklearn.linear_model import LogisticRegression\n",
        "from sklearn.ensemble import RandomForestClassifier\n",
        "from sklearn.metrics import accuracy_score, ConfusionMatrixDisplay, confusion_matrix\n",
        "from sklearn.feature_selection import SequentialFeatureSelector\n",
        "\n",
        "# explicitly require this experimental feature\n",
        "from sklearn.experimental import enable_halving_search_cv # noqa\n",
        "# now you can import normally from model_selection\n",
        "from sklearn.model_selection import HalvingRandomSearchCV\n",
        "\n",
        "pd.__version__ \n",
        "sklearn.__version__\n",
        "%pip install pandas==1.4.4"
      ],
      "metadata": {
        "id": "FGpH5ClDTie1",
        "outputId": "e9130064-73ac-47e4-fd50-0e5c9c4c14d3",
        "colab": {
          "base_uri": "https://localhost:8080/",
          "height": 341
        }
      },
      "execution_count": 1,
      "outputs": [
        {
          "output_type": "stream",
          "name": "stdout",
          "text": [
            "Looking in indexes: https://pypi.org/simple, https://us-python.pkg.dev/colab-wheels/public/simple/\n",
            "Collecting pandas==1.4.4\n",
            "  Downloading pandas-1.4.4-cp38-cp38-manylinux_2_17_x86_64.manylinux2014_x86_64.whl (11.7 MB)\n",
            "\u001b[K     |████████████████████████████████| 11.7 MB 30.0 MB/s \n",
            "\u001b[?25hRequirement already satisfied: python-dateutil>=2.8.1 in /usr/local/lib/python3.8/dist-packages (from pandas==1.4.4) (2.8.2)\n",
            "Requirement already satisfied: numpy>=1.18.5 in /usr/local/lib/python3.8/dist-packages (from pandas==1.4.4) (1.21.6)\n",
            "Requirement already satisfied: pytz>=2020.1 in /usr/local/lib/python3.8/dist-packages (from pandas==1.4.4) (2022.6)\n",
            "Requirement already satisfied: six>=1.5 in /usr/local/lib/python3.8/dist-packages (from python-dateutil>=2.8.1->pandas==1.4.4) (1.15.0)\n",
            "Installing collected packages: pandas\n",
            "  Attempting uninstall: pandas\n",
            "    Found existing installation: pandas 1.3.5\n",
            "    Uninstalling pandas-1.3.5:\n",
            "      Successfully uninstalled pandas-1.3.5\n",
            "Successfully installed pandas-1.4.4\n"
          ]
        },
        {
          "output_type": "display_data",
          "data": {
            "application/vnd.colab-display-data+json": {
              "pip_warning": {
                "packages": [
                  "pandas"
                ]
              }
            }
          },
          "metadata": {}
        }
      ]
    },
    {
      "cell_type": "markdown",
      "source": [
        "# Data preparation\n",
        "\n",
        "Since the dataset is split into 2, one for moderate winds and the other dfor extreme winds. Let's merge them"
      ],
      "metadata": {
        "id": "fPP0U9M4iuvH"
      }
    },
    {
      "cell_type": "code",
      "execution_count": 2,
      "metadata": {
        "id": "TeHQPY9PJbFt"
      },
      "outputs": [],
      "source": [
        "# Path of the dataset\n",
        "\n",
        "path_75 = '/content/drive/MyDrive/MLEE/df_europewinds_75.pkl'\n",
        "path_95 = '/content/drive/MyDrive/MLEE/df_europewinds_95.pkl'"
      ]
    },
    {
      "cell_type": "code",
      "source": [
        "data_75 = pd.read_pickle(open(path_75, 'rb'))\n",
        "data_75.head()"
      ],
      "metadata": {
        "colab": {
          "base_uri": "https://localhost:8080/",
          "height": 297
        },
        "id": "TkwZdmSpUA5w",
        "outputId": "bae1d475-f80a-4acb-b439-7831ed136d86"
      },
      "execution_count": 3,
      "outputs": [
        {
          "output_type": "execute_result",
          "data": {
            "text/plain": [
              "   year  index  bss0_1_mean  bss0_1_std  bss0_6_mean  bss0_6_std  \\\n",
              "0     0      0     5.566746    1.409852    20.841965    2.403776   \n",
              "1     0      1     9.117043    2.212430    15.022616    1.769653   \n",
              "2     0      1     3.349157    1.543636    14.397669    1.997612   \n",
              "3     0      1     3.522637    1.343964     6.980061    1.558338   \n",
              "4     0      1     2.906259    1.306351    18.640661    0.778727   \n",
              "\n",
              "   rh1000_850_mean  rh1000_850_std  rh700_500_mean  rh700_500_std  ...  \\\n",
              "0        38.471111        5.528201       39.340164       4.507432  ...   \n",
              "1        91.150574        4.519768       95.393280       3.446400  ...   \n",
              "2        94.999939        3.762975       96.936325       2.179418  ...   \n",
              "3        86.109894        6.356337       87.546326       8.126277  ...   \n",
              "4        76.630363       11.766706       75.178864       5.603858  ...   \n",
              "\n",
              "   lapse_s1_mean  lapse_s1_std  lapse700_500_mean  lapse700_500_std  \\\n",
              "0       3.937160      1.835161           7.434533          0.157927   \n",
              "1       6.827473      0.361492           4.986881          0.123315   \n",
              "2       7.025648      0.705598           5.416773          0.279987   \n",
              "3       6.696632      0.315548           6.247573          0.096321   \n",
              "4       5.132456      0.965875           6.791603          0.163507   \n",
              "\n",
              "   total_totals_mean  total_totals_std  kindex_mean  kindex_std     cape_mean  \\\n",
              "0        -223.870316          2.545162  -241.414597    1.920714  1.470943e+06   \n",
              "1        -230.567856          1.326195  -256.065704    2.432208  7.463997e+05   \n",
              "2        -229.407089          0.455871  -254.261292    0.960245  7.808471e+05   \n",
              "3        -225.117264          0.556208  -242.131607    0.737710  3.299286e+05   \n",
              "4        -221.258957          0.740583  -236.590332    0.754513  8.468746e+05   \n",
              "\n",
              "       cape_std  \n",
              "0  47421.042969  \n",
              "1  29720.560547  \n",
              "2  32203.679688  \n",
              "3  44017.738281  \n",
              "4  69275.562500  \n",
              "\n",
              "[5 rows x 22 columns]"
            ],
            "text/html": [
              "\n",
              "  <div id=\"df-2e915232-74e3-432f-afa3-dad2d3f6781b\">\n",
              "    <div class=\"colab-df-container\">\n",
              "      <div>\n",
              "<style scoped>\n",
              "    .dataframe tbody tr th:only-of-type {\n",
              "        vertical-align: middle;\n",
              "    }\n",
              "\n",
              "    .dataframe tbody tr th {\n",
              "        vertical-align: top;\n",
              "    }\n",
              "\n",
              "    .dataframe thead th {\n",
              "        text-align: right;\n",
              "    }\n",
              "</style>\n",
              "<table border=\"1\" class=\"dataframe\">\n",
              "  <thead>\n",
              "    <tr style=\"text-align: right;\">\n",
              "      <th></th>\n",
              "      <th>year</th>\n",
              "      <th>index</th>\n",
              "      <th>bss0_1_mean</th>\n",
              "      <th>bss0_1_std</th>\n",
              "      <th>bss0_6_mean</th>\n",
              "      <th>bss0_6_std</th>\n",
              "      <th>rh1000_850_mean</th>\n",
              "      <th>rh1000_850_std</th>\n",
              "      <th>rh700_500_mean</th>\n",
              "      <th>rh700_500_std</th>\n",
              "      <th>...</th>\n",
              "      <th>lapse_s1_mean</th>\n",
              "      <th>lapse_s1_std</th>\n",
              "      <th>lapse700_500_mean</th>\n",
              "      <th>lapse700_500_std</th>\n",
              "      <th>total_totals_mean</th>\n",
              "      <th>total_totals_std</th>\n",
              "      <th>kindex_mean</th>\n",
              "      <th>kindex_std</th>\n",
              "      <th>cape_mean</th>\n",
              "      <th>cape_std</th>\n",
              "    </tr>\n",
              "  </thead>\n",
              "  <tbody>\n",
              "    <tr>\n",
              "      <th>0</th>\n",
              "      <td>0</td>\n",
              "      <td>0</td>\n",
              "      <td>5.566746</td>\n",
              "      <td>1.409852</td>\n",
              "      <td>20.841965</td>\n",
              "      <td>2.403776</td>\n",
              "      <td>38.471111</td>\n",
              "      <td>5.528201</td>\n",
              "      <td>39.340164</td>\n",
              "      <td>4.507432</td>\n",
              "      <td>...</td>\n",
              "      <td>3.937160</td>\n",
              "      <td>1.835161</td>\n",
              "      <td>7.434533</td>\n",
              "      <td>0.157927</td>\n",
              "      <td>-223.870316</td>\n",
              "      <td>2.545162</td>\n",
              "      <td>-241.414597</td>\n",
              "      <td>1.920714</td>\n",
              "      <td>1.470943e+06</td>\n",
              "      <td>47421.042969</td>\n",
              "    </tr>\n",
              "    <tr>\n",
              "      <th>1</th>\n",
              "      <td>0</td>\n",
              "      <td>1</td>\n",
              "      <td>9.117043</td>\n",
              "      <td>2.212430</td>\n",
              "      <td>15.022616</td>\n",
              "      <td>1.769653</td>\n",
              "      <td>91.150574</td>\n",
              "      <td>4.519768</td>\n",
              "      <td>95.393280</td>\n",
              "      <td>3.446400</td>\n",
              "      <td>...</td>\n",
              "      <td>6.827473</td>\n",
              "      <td>0.361492</td>\n",
              "      <td>4.986881</td>\n",
              "      <td>0.123315</td>\n",
              "      <td>-230.567856</td>\n",
              "      <td>1.326195</td>\n",
              "      <td>-256.065704</td>\n",
              "      <td>2.432208</td>\n",
              "      <td>7.463997e+05</td>\n",
              "      <td>29720.560547</td>\n",
              "    </tr>\n",
              "    <tr>\n",
              "      <th>2</th>\n",
              "      <td>0</td>\n",
              "      <td>1</td>\n",
              "      <td>3.349157</td>\n",
              "      <td>1.543636</td>\n",
              "      <td>14.397669</td>\n",
              "      <td>1.997612</td>\n",
              "      <td>94.999939</td>\n",
              "      <td>3.762975</td>\n",
              "      <td>96.936325</td>\n",
              "      <td>2.179418</td>\n",
              "      <td>...</td>\n",
              "      <td>7.025648</td>\n",
              "      <td>0.705598</td>\n",
              "      <td>5.416773</td>\n",
              "      <td>0.279987</td>\n",
              "      <td>-229.407089</td>\n",
              "      <td>0.455871</td>\n",
              "      <td>-254.261292</td>\n",
              "      <td>0.960245</td>\n",
              "      <td>7.808471e+05</td>\n",
              "      <td>32203.679688</td>\n",
              "    </tr>\n",
              "    <tr>\n",
              "      <th>3</th>\n",
              "      <td>0</td>\n",
              "      <td>1</td>\n",
              "      <td>3.522637</td>\n",
              "      <td>1.343964</td>\n",
              "      <td>6.980061</td>\n",
              "      <td>1.558338</td>\n",
              "      <td>86.109894</td>\n",
              "      <td>6.356337</td>\n",
              "      <td>87.546326</td>\n",
              "      <td>8.126277</td>\n",
              "      <td>...</td>\n",
              "      <td>6.696632</td>\n",
              "      <td>0.315548</td>\n",
              "      <td>6.247573</td>\n",
              "      <td>0.096321</td>\n",
              "      <td>-225.117264</td>\n",
              "      <td>0.556208</td>\n",
              "      <td>-242.131607</td>\n",
              "      <td>0.737710</td>\n",
              "      <td>3.299286e+05</td>\n",
              "      <td>44017.738281</td>\n",
              "    </tr>\n",
              "    <tr>\n",
              "      <th>4</th>\n",
              "      <td>0</td>\n",
              "      <td>1</td>\n",
              "      <td>2.906259</td>\n",
              "      <td>1.306351</td>\n",
              "      <td>18.640661</td>\n",
              "      <td>0.778727</td>\n",
              "      <td>76.630363</td>\n",
              "      <td>11.766706</td>\n",
              "      <td>75.178864</td>\n",
              "      <td>5.603858</td>\n",
              "      <td>...</td>\n",
              "      <td>5.132456</td>\n",
              "      <td>0.965875</td>\n",
              "      <td>6.791603</td>\n",
              "      <td>0.163507</td>\n",
              "      <td>-221.258957</td>\n",
              "      <td>0.740583</td>\n",
              "      <td>-236.590332</td>\n",
              "      <td>0.754513</td>\n",
              "      <td>8.468746e+05</td>\n",
              "      <td>69275.562500</td>\n",
              "    </tr>\n",
              "  </tbody>\n",
              "</table>\n",
              "<p>5 rows × 22 columns</p>\n",
              "</div>\n",
              "      <button class=\"colab-df-convert\" onclick=\"convertToInteractive('df-2e915232-74e3-432f-afa3-dad2d3f6781b')\"\n",
              "              title=\"Convert this dataframe to an interactive table.\"\n",
              "              style=\"display:none;\">\n",
              "        \n",
              "  <svg xmlns=\"http://www.w3.org/2000/svg\" height=\"24px\"viewBox=\"0 0 24 24\"\n",
              "       width=\"24px\">\n",
              "    <path d=\"M0 0h24v24H0V0z\" fill=\"none\"/>\n",
              "    <path d=\"M18.56 5.44l.94 2.06.94-2.06 2.06-.94-2.06-.94-.94-2.06-.94 2.06-2.06.94zm-11 1L8.5 8.5l.94-2.06 2.06-.94-2.06-.94L8.5 2.5l-.94 2.06-2.06.94zm10 10l.94 2.06.94-2.06 2.06-.94-2.06-.94-.94-2.06-.94 2.06-2.06.94z\"/><path d=\"M17.41 7.96l-1.37-1.37c-.4-.4-.92-.59-1.43-.59-.52 0-1.04.2-1.43.59L10.3 9.45l-7.72 7.72c-.78.78-.78 2.05 0 2.83L4 21.41c.39.39.9.59 1.41.59.51 0 1.02-.2 1.41-.59l7.78-7.78 2.81-2.81c.8-.78.8-2.07 0-2.86zM5.41 20L4 18.59l7.72-7.72 1.47 1.35L5.41 20z\"/>\n",
              "  </svg>\n",
              "      </button>\n",
              "      \n",
              "  <style>\n",
              "    .colab-df-container {\n",
              "      display:flex;\n",
              "      flex-wrap:wrap;\n",
              "      gap: 12px;\n",
              "    }\n",
              "\n",
              "    .colab-df-convert {\n",
              "      background-color: #E8F0FE;\n",
              "      border: none;\n",
              "      border-radius: 50%;\n",
              "      cursor: pointer;\n",
              "      display: none;\n",
              "      fill: #1967D2;\n",
              "      height: 32px;\n",
              "      padding: 0 0 0 0;\n",
              "      width: 32px;\n",
              "    }\n",
              "\n",
              "    .colab-df-convert:hover {\n",
              "      background-color: #E2EBFA;\n",
              "      box-shadow: 0px 1px 2px rgba(60, 64, 67, 0.3), 0px 1px 3px 1px rgba(60, 64, 67, 0.15);\n",
              "      fill: #174EA6;\n",
              "    }\n",
              "\n",
              "    [theme=dark] .colab-df-convert {\n",
              "      background-color: #3B4455;\n",
              "      fill: #D2E3FC;\n",
              "    }\n",
              "\n",
              "    [theme=dark] .colab-df-convert:hover {\n",
              "      background-color: #434B5C;\n",
              "      box-shadow: 0px 1px 3px 1px rgba(0, 0, 0, 0.15);\n",
              "      filter: drop-shadow(0px 1px 2px rgba(0, 0, 0, 0.3));\n",
              "      fill: #FFFFFF;\n",
              "    }\n",
              "  </style>\n",
              "\n",
              "      <script>\n",
              "        const buttonEl =\n",
              "          document.querySelector('#df-2e915232-74e3-432f-afa3-dad2d3f6781b button.colab-df-convert');\n",
              "        buttonEl.style.display =\n",
              "          google.colab.kernel.accessAllowed ? 'block' : 'none';\n",
              "\n",
              "        async function convertToInteractive(key) {\n",
              "          const element = document.querySelector('#df-2e915232-74e3-432f-afa3-dad2d3f6781b');\n",
              "          const dataTable =\n",
              "            await google.colab.kernel.invokeFunction('convertToInteractive',\n",
              "                                                     [key], {});\n",
              "          if (!dataTable) return;\n",
              "\n",
              "          const docLinkHtml = 'Like what you see? Visit the ' +\n",
              "            '<a target=\"_blank\" href=https://colab.research.google.com/notebooks/data_table.ipynb>data table notebook</a>'\n",
              "            + ' to learn more about interactive tables.';\n",
              "          element.innerHTML = '';\n",
              "          dataTable['output_type'] = 'display_data';\n",
              "          await google.colab.output.renderOutput(dataTable, element);\n",
              "          const docLink = document.createElement('div');\n",
              "          docLink.innerHTML = docLinkHtml;\n",
              "          element.appendChild(docLink);\n",
              "        }\n",
              "      </script>\n",
              "    </div>\n",
              "  </div>\n",
              "  "
            ]
          },
          "metadata": {},
          "execution_count": 3
        }
      ]
    },
    {
      "cell_type": "code",
      "source": [
        "data_95 = pd.read_pickle(open(path_95, 'rb'))\n",
        "data_95.head()"
      ],
      "metadata": {
        "colab": {
          "base_uri": "https://localhost:8080/",
          "height": 297
        },
        "id": "jodHrpzEVZ2R",
        "outputId": "d17c3364-c3f9-47d6-8a8b-ac2af017901b"
      },
      "execution_count": 4,
      "outputs": [
        {
          "output_type": "execute_result",
          "data": {
            "text/plain": [
              "   year  index  bss0_1_mean  bss0_1_std  bss0_6_mean  bss0_6_std  \\\n",
              "0     0      0     4.277383    1.872966     8.982351    0.724258   \n",
              "1     0      0     1.802277    0.753601    15.204497    0.530935   \n",
              "2     0      0     0.715803    0.243926    16.503664    0.667165   \n",
              "3     0      0     1.606050    1.158768    18.095135    1.584871   \n",
              "4     0      0     0.307757    0.309118    13.387435    1.153533   \n",
              "\n",
              "   rh1000_850_mean  rh1000_850_std  rh700_500_mean  rh700_500_std  ...  \\\n",
              "0        93.492226        5.035859       88.534180       5.347477  ...   \n",
              "1        59.056320        1.762953       41.138809      20.166151  ...   \n",
              "2        59.690506        3.856417       24.401155       8.628385  ...   \n",
              "3        29.221788        1.806868       54.221584       3.082348  ...   \n",
              "4        29.046917        3.302094       55.367680       3.316934  ...   \n",
              "\n",
              "   lapse_s1_mean  lapse_s1_std  lapse700_500_mean  lapse700_500_std  \\\n",
              "0       6.906764      1.327869           6.136250          0.066148   \n",
              "1       7.818282      0.271740           6.264568          0.162757   \n",
              "2       7.912159      0.212544           6.037870          0.176981   \n",
              "3       7.784466      0.688592           8.378917          0.154145   \n",
              "4       6.988350      0.134230           8.529189          0.123378   \n",
              "\n",
              "   total_totals_mean  total_totals_std  kindex_mean  kindex_std     cape_mean  \\\n",
              "0        -229.698380          2.886750  -253.835098    3.049098  2.026168e+05   \n",
              "1        -229.545853          2.025261  -257.027924    5.805379  1.180107e+06   \n",
              "2        -230.075562          1.594442  -261.277252    2.990737  1.271284e+06   \n",
              "3        -220.908508          0.992791  -244.325333    1.691479  1.316592e+06   \n",
              "4        -221.513565          0.656967  -246.688919    0.659492  1.148537e+06   \n",
              "\n",
              "       cape_std  \n",
              "0  14708.218750  \n",
              "1  50493.390625  \n",
              "2  24269.503906  \n",
              "3  54253.433594  \n",
              "4  25503.769531  \n",
              "\n",
              "[5 rows x 22 columns]"
            ],
            "text/html": [
              "\n",
              "  <div id=\"df-c8270f32-61be-4c5f-994f-39b24d2f6713\">\n",
              "    <div class=\"colab-df-container\">\n",
              "      <div>\n",
              "<style scoped>\n",
              "    .dataframe tbody tr th:only-of-type {\n",
              "        vertical-align: middle;\n",
              "    }\n",
              "\n",
              "    .dataframe tbody tr th {\n",
              "        vertical-align: top;\n",
              "    }\n",
              "\n",
              "    .dataframe thead th {\n",
              "        text-align: right;\n",
              "    }\n",
              "</style>\n",
              "<table border=\"1\" class=\"dataframe\">\n",
              "  <thead>\n",
              "    <tr style=\"text-align: right;\">\n",
              "      <th></th>\n",
              "      <th>year</th>\n",
              "      <th>index</th>\n",
              "      <th>bss0_1_mean</th>\n",
              "      <th>bss0_1_std</th>\n",
              "      <th>bss0_6_mean</th>\n",
              "      <th>bss0_6_std</th>\n",
              "      <th>rh1000_850_mean</th>\n",
              "      <th>rh1000_850_std</th>\n",
              "      <th>rh700_500_mean</th>\n",
              "      <th>rh700_500_std</th>\n",
              "      <th>...</th>\n",
              "      <th>lapse_s1_mean</th>\n",
              "      <th>lapse_s1_std</th>\n",
              "      <th>lapse700_500_mean</th>\n",
              "      <th>lapse700_500_std</th>\n",
              "      <th>total_totals_mean</th>\n",
              "      <th>total_totals_std</th>\n",
              "      <th>kindex_mean</th>\n",
              "      <th>kindex_std</th>\n",
              "      <th>cape_mean</th>\n",
              "      <th>cape_std</th>\n",
              "    </tr>\n",
              "  </thead>\n",
              "  <tbody>\n",
              "    <tr>\n",
              "      <th>0</th>\n",
              "      <td>0</td>\n",
              "      <td>0</td>\n",
              "      <td>4.277383</td>\n",
              "      <td>1.872966</td>\n",
              "      <td>8.982351</td>\n",
              "      <td>0.724258</td>\n",
              "      <td>93.492226</td>\n",
              "      <td>5.035859</td>\n",
              "      <td>88.534180</td>\n",
              "      <td>5.347477</td>\n",
              "      <td>...</td>\n",
              "      <td>6.906764</td>\n",
              "      <td>1.327869</td>\n",
              "      <td>6.136250</td>\n",
              "      <td>0.066148</td>\n",
              "      <td>-229.698380</td>\n",
              "      <td>2.886750</td>\n",
              "      <td>-253.835098</td>\n",
              "      <td>3.049098</td>\n",
              "      <td>2.026168e+05</td>\n",
              "      <td>14708.218750</td>\n",
              "    </tr>\n",
              "    <tr>\n",
              "      <th>1</th>\n",
              "      <td>0</td>\n",
              "      <td>0</td>\n",
              "      <td>1.802277</td>\n",
              "      <td>0.753601</td>\n",
              "      <td>15.204497</td>\n",
              "      <td>0.530935</td>\n",
              "      <td>59.056320</td>\n",
              "      <td>1.762953</td>\n",
              "      <td>41.138809</td>\n",
              "      <td>20.166151</td>\n",
              "      <td>...</td>\n",
              "      <td>7.818282</td>\n",
              "      <td>0.271740</td>\n",
              "      <td>6.264568</td>\n",
              "      <td>0.162757</td>\n",
              "      <td>-229.545853</td>\n",
              "      <td>2.025261</td>\n",
              "      <td>-257.027924</td>\n",
              "      <td>5.805379</td>\n",
              "      <td>1.180107e+06</td>\n",
              "      <td>50493.390625</td>\n",
              "    </tr>\n",
              "    <tr>\n",
              "      <th>2</th>\n",
              "      <td>0</td>\n",
              "      <td>0</td>\n",
              "      <td>0.715803</td>\n",
              "      <td>0.243926</td>\n",
              "      <td>16.503664</td>\n",
              "      <td>0.667165</td>\n",
              "      <td>59.690506</td>\n",
              "      <td>3.856417</td>\n",
              "      <td>24.401155</td>\n",
              "      <td>8.628385</td>\n",
              "      <td>...</td>\n",
              "      <td>7.912159</td>\n",
              "      <td>0.212544</td>\n",
              "      <td>6.037870</td>\n",
              "      <td>0.176981</td>\n",
              "      <td>-230.075562</td>\n",
              "      <td>1.594442</td>\n",
              "      <td>-261.277252</td>\n",
              "      <td>2.990737</td>\n",
              "      <td>1.271284e+06</td>\n",
              "      <td>24269.503906</td>\n",
              "    </tr>\n",
              "    <tr>\n",
              "      <th>3</th>\n",
              "      <td>0</td>\n",
              "      <td>0</td>\n",
              "      <td>1.606050</td>\n",
              "      <td>1.158768</td>\n",
              "      <td>18.095135</td>\n",
              "      <td>1.584871</td>\n",
              "      <td>29.221788</td>\n",
              "      <td>1.806868</td>\n",
              "      <td>54.221584</td>\n",
              "      <td>3.082348</td>\n",
              "      <td>...</td>\n",
              "      <td>7.784466</td>\n",
              "      <td>0.688592</td>\n",
              "      <td>8.378917</td>\n",
              "      <td>0.154145</td>\n",
              "      <td>-220.908508</td>\n",
              "      <td>0.992791</td>\n",
              "      <td>-244.325333</td>\n",
              "      <td>1.691479</td>\n",
              "      <td>1.316592e+06</td>\n",
              "      <td>54253.433594</td>\n",
              "    </tr>\n",
              "    <tr>\n",
              "      <th>4</th>\n",
              "      <td>0</td>\n",
              "      <td>0</td>\n",
              "      <td>0.307757</td>\n",
              "      <td>0.309118</td>\n",
              "      <td>13.387435</td>\n",
              "      <td>1.153533</td>\n",
              "      <td>29.046917</td>\n",
              "      <td>3.302094</td>\n",
              "      <td>55.367680</td>\n",
              "      <td>3.316934</td>\n",
              "      <td>...</td>\n",
              "      <td>6.988350</td>\n",
              "      <td>0.134230</td>\n",
              "      <td>8.529189</td>\n",
              "      <td>0.123378</td>\n",
              "      <td>-221.513565</td>\n",
              "      <td>0.656967</td>\n",
              "      <td>-246.688919</td>\n",
              "      <td>0.659492</td>\n",
              "      <td>1.148537e+06</td>\n",
              "      <td>25503.769531</td>\n",
              "    </tr>\n",
              "  </tbody>\n",
              "</table>\n",
              "<p>5 rows × 22 columns</p>\n",
              "</div>\n",
              "      <button class=\"colab-df-convert\" onclick=\"convertToInteractive('df-c8270f32-61be-4c5f-994f-39b24d2f6713')\"\n",
              "              title=\"Convert this dataframe to an interactive table.\"\n",
              "              style=\"display:none;\">\n",
              "        \n",
              "  <svg xmlns=\"http://www.w3.org/2000/svg\" height=\"24px\"viewBox=\"0 0 24 24\"\n",
              "       width=\"24px\">\n",
              "    <path d=\"M0 0h24v24H0V0z\" fill=\"none\"/>\n",
              "    <path d=\"M18.56 5.44l.94 2.06.94-2.06 2.06-.94-2.06-.94-.94-2.06-.94 2.06-2.06.94zm-11 1L8.5 8.5l.94-2.06 2.06-.94-2.06-.94L8.5 2.5l-.94 2.06-2.06.94zm10 10l.94 2.06.94-2.06 2.06-.94-2.06-.94-.94-2.06-.94 2.06-2.06.94z\"/><path d=\"M17.41 7.96l-1.37-1.37c-.4-.4-.92-.59-1.43-.59-.52 0-1.04.2-1.43.59L10.3 9.45l-7.72 7.72c-.78.78-.78 2.05 0 2.83L4 21.41c.39.39.9.59 1.41.59.51 0 1.02-.2 1.41-.59l7.78-7.78 2.81-2.81c.8-.78.8-2.07 0-2.86zM5.41 20L4 18.59l7.72-7.72 1.47 1.35L5.41 20z\"/>\n",
              "  </svg>\n",
              "      </button>\n",
              "      \n",
              "  <style>\n",
              "    .colab-df-container {\n",
              "      display:flex;\n",
              "      flex-wrap:wrap;\n",
              "      gap: 12px;\n",
              "    }\n",
              "\n",
              "    .colab-df-convert {\n",
              "      background-color: #E8F0FE;\n",
              "      border: none;\n",
              "      border-radius: 50%;\n",
              "      cursor: pointer;\n",
              "      display: none;\n",
              "      fill: #1967D2;\n",
              "      height: 32px;\n",
              "      padding: 0 0 0 0;\n",
              "      width: 32px;\n",
              "    }\n",
              "\n",
              "    .colab-df-convert:hover {\n",
              "      background-color: #E2EBFA;\n",
              "      box-shadow: 0px 1px 2px rgba(60, 64, 67, 0.3), 0px 1px 3px 1px rgba(60, 64, 67, 0.15);\n",
              "      fill: #174EA6;\n",
              "    }\n",
              "\n",
              "    [theme=dark] .colab-df-convert {\n",
              "      background-color: #3B4455;\n",
              "      fill: #D2E3FC;\n",
              "    }\n",
              "\n",
              "    [theme=dark] .colab-df-convert:hover {\n",
              "      background-color: #434B5C;\n",
              "      box-shadow: 0px 1px 3px 1px rgba(0, 0, 0, 0.15);\n",
              "      filter: drop-shadow(0px 1px 2px rgba(0, 0, 0, 0.3));\n",
              "      fill: #FFFFFF;\n",
              "    }\n",
              "  </style>\n",
              "\n",
              "      <script>\n",
              "        const buttonEl =\n",
              "          document.querySelector('#df-c8270f32-61be-4c5f-994f-39b24d2f6713 button.colab-df-convert');\n",
              "        buttonEl.style.display =\n",
              "          google.colab.kernel.accessAllowed ? 'block' : 'none';\n",
              "\n",
              "        async function convertToInteractive(key) {\n",
              "          const element = document.querySelector('#df-c8270f32-61be-4c5f-994f-39b24d2f6713');\n",
              "          const dataTable =\n",
              "            await google.colab.kernel.invokeFunction('convertToInteractive',\n",
              "                                                     [key], {});\n",
              "          if (!dataTable) return;\n",
              "\n",
              "          const docLinkHtml = 'Like what you see? Visit the ' +\n",
              "            '<a target=\"_blank\" href=https://colab.research.google.com/notebooks/data_table.ipynb>data table notebook</a>'\n",
              "            + ' to learn more about interactive tables.';\n",
              "          element.innerHTML = '';\n",
              "          dataTable['output_type'] = 'display_data';\n",
              "          await google.colab.output.renderOutput(dataTable, element);\n",
              "          const docLink = document.createElement('div');\n",
              "          docLink.innerHTML = docLinkHtml;\n",
              "          element.appendChild(docLink);\n",
              "        }\n",
              "      </script>\n",
              "    </div>\n",
              "  </div>\n",
              "  "
            ]
          },
          "metadata": {},
          "execution_count": 4
        }
      ]
    },
    {
      "cell_type": "markdown",
      "source": [
        "We need to create a new column to know whether or not it was a moderate wind or an extreme wind."
      ],
      "metadata": {
        "id": "0en9ac1vi9WC"
      }
    },
    {
      "cell_type": "code",
      "source": [
        "# Intensity 1 means extreme convective winds bursts and 0 means moderate convective bursts\n",
        "\n",
        "data_75['intensity']=0\n",
        "data_95['intensity']=1"
      ],
      "metadata": {
        "id": "rN3Bwoo_VuLX"
      },
      "execution_count": 5,
      "outputs": []
    },
    {
      "cell_type": "code",
      "source": [
        "# Merge the 2 dataset and separate the features from the intensity\n",
        "\n",
        "data_merged = pd.concat((data_75,data_95))\n",
        "y = data_merged['intensity']\n",
        "X = data_merged.iloc[:,2:-1]"
      ],
      "metadata": {
        "id": "QBXdUb-tWHSN"
      },
      "execution_count": 6,
      "outputs": []
    },
    {
      "cell_type": "code",
      "source": [
        "# Store the name of each feature\n",
        "\n",
        "features_names = data_merged.columns[2:-1]"
      ],
      "metadata": {
        "id": "GYCWYwZfexWL"
      },
      "execution_count": 7,
      "outputs": []
    },
    {
      "cell_type": "markdown",
      "source": [
        "# Data splitting\n",
        "\n",
        "Separation of the dataset in to 3, with one for training, one for testing and one for validation"
      ],
      "metadata": {
        "id": "aI6jF_acjOJC"
      }
    },
    {
      "cell_type": "code",
      "source": [
        "# Split the dataset into a training (64%), validation (16%), and testing set (20%)\n",
        "\n",
        "X_train_valid, X_test, y_train_valid, y_test = train_test_split(X, y, train_size=0.8)\n",
        "X_train, X_valid, y_train, y_valid = train_test_split(X_train_valid, y_train_valid, train_size=0.8)"
      ],
      "metadata": {
        "id": "z4sps3vXX5cB"
      },
      "execution_count": 8,
      "outputs": []
    },
    {
      "cell_type": "code",
      "source": [
        "# Split the dataset into only training and validation (80% and 20%) and along the years. \n",
        "# So the 80% of the training will be from 2011 to 2018 and the validation from 2018 to 2020\n",
        "\n",
        "X_train_80_y, X_test_20_y, y_train_80_y, y_test_20_y = train_test_split()"
      ],
      "metadata": {
        "id": "EhMrcE8OjxOU"
      },
      "execution_count": null,
      "outputs": []
    },
    {
      "cell_type": "markdown",
      "source": [
        "# First algorithm : Logistic Regression"
      ],
      "metadata": {
        "id": "6nA3sl3kjf2o"
      }
    },
    {
      "cell_type": "code",
      "source": [
        "# Let's try to predict the 2 classes of winds bursts with Logistic Regression  \n",
        "\n",
        "lr = LogisticRegression()\n",
        "lr.fit(X_train, y_train)"
      ],
      "metadata": {
        "colab": {
          "base_uri": "https://localhost:8080/"
        },
        "id": "C5haDirDZqTy",
        "outputId": "80a3db06-21f0-49ae-c3bc-2a633d99d1f5"
      },
      "execution_count": 9,
      "outputs": [
        {
          "output_type": "execute_result",
          "data": {
            "text/plain": [
              "LogisticRegression()"
            ]
          },
          "metadata": {},
          "execution_count": 9
        }
      ]
    },
    {
      "cell_type": "code",
      "source": [
        "# Let's try a prediction\n",
        "\n",
        "prediction_lr = lr.predict(X_test)\n",
        "\n",
        "lr_accuracy = accuracy_score(y_test, prediction_lr)  # Feed in the truth and predictions\n",
        "\n",
        "print(f\"LR Model Accuracy: {lr_accuracy:.2%}\")"
      ],
      "metadata": {
        "id": "bbuGoMCDZqXF",
        "outputId": "515451e5-7371-4df9-f14b-4b45ad021cd6",
        "colab": {
          "base_uri": "https://localhost:8080/"
        }
      },
      "execution_count": 10,
      "outputs": [
        {
          "output_type": "stream",
          "name": "stdout",
          "text": [
            "LR Model Accuracy: 57.22%\n"
          ]
        }
      ]
    },
    {
      "cell_type": "code",
      "source": [
        "# The accuracy is not good, less than 60%, so let's try to adujst the solver\n",
        "\n",
        "lr2 = LogisticRegression(solver=\"liblinear\")\n",
        "lr2.fit(X_train, y_train)"
      ],
      "metadata": {
        "id": "b0UdtiWHeFAD",
        "outputId": "22b5a29c-7db1-45fa-89c5-298d11033ee5",
        "colab": {
          "base_uri": "https://localhost:8080/"
        }
      },
      "execution_count": 11,
      "outputs": [
        {
          "output_type": "execute_result",
          "data": {
            "text/plain": [
              "LogisticRegression(solver='liblinear')"
            ]
          },
          "metadata": {},
          "execution_count": 11
        }
      ]
    },
    {
      "cell_type": "code",
      "source": [
        "# Let's try a prediction\n",
        "\n",
        "prediction2_lr = lr2.predict(X_test)\n",
        "\n",
        "lr2_accuracy = accuracy_score(y_test, prediction2_lr)  # Feed in the truth and predictions\n",
        "\n",
        "print(f\"LR Model Accuracy: {lr2_accuracy:.2%}\")"
      ],
      "metadata": {
        "id": "6HGE7eoledj2",
        "outputId": "08ae1b80-6449-4488-e8ed-95ce08340601",
        "colab": {
          "base_uri": "https://localhost:8080/"
        }
      },
      "execution_count": 12,
      "outputs": [
        {
          "output_type": "stream",
          "name": "stdout",
          "text": [
            "LR Model Accuracy: 59.18%\n"
          ]
        }
      ]
    },
    {
      "cell_type": "code",
      "source": [
        "# The accuracy is still not good, just above 60%. Let's see the feature importance\n",
        "\n",
        "print(lr2.coef_)\n",
        "np.shape(lr2.coef_)"
      ],
      "metadata": {
        "colab": {
          "base_uri": "https://localhost:8080/"
        },
        "id": "3QvYadPBZ_iO",
        "outputId": "41dc1f0e-777f-4d73-a381-18ab82fce48c"
      },
      "execution_count": 13,
      "outputs": [
        {
          "output_type": "stream",
          "name": "stdout",
          "text": [
            "[[ 1.40809340e-02  2.69923481e-03 -6.86221182e-04  1.90423529e-03\n",
            "   1.22352563e-02 -4.39082237e-03  7.89249623e-03  1.02085880e-03\n",
            "   1.69222738e-03  1.16540893e-04 -1.89814460e-03 -4.27470152e-04\n",
            "  -1.45437204e-03  4.82462620e-05  8.24265403e-03  1.07135949e-04\n",
            "   2.27501860e-03  8.64647819e-04  3.17847649e-07  9.48615376e-07]]\n"
          ]
        },
        {
          "output_type": "execute_result",
          "data": {
            "text/plain": [
              "(1, 20)"
            ]
          },
          "metadata": {},
          "execution_count": 13
        }
      ]
    },
    {
      "cell_type": "code",
      "source": [
        "# Calculation of the standard deviation\n",
        "\n",
        "std_train = X_train.std(axis=0)"
      ],
      "metadata": {
        "id": "P55jOwIgauEw"
      },
      "execution_count": 14,
      "outputs": []
    },
    {
      "cell_type": "code",
      "source": [
        "# Graphic of the feature importance\n",
        "\n",
        "features_importance = std_train*lr2.coef_[0,:]\n",
        "\n",
        "fig, ax = plt.subplots(1,1, figsize=(5,9))\n",
        "ax.barh(features_names,features_importance)"
      ],
      "metadata": {
        "colab": {
          "base_uri": "https://localhost:8080/",
          "height": 554
        },
        "id": "UKqRHhk2abFh",
        "outputId": "a65a76f1-6645-4e46-a3c0-485c93f7a098"
      },
      "execution_count": 15,
      "outputs": [
        {
          "output_type": "execute_result",
          "data": {
            "text/plain": [
              "<BarContainer object of 20 artists>"
            ]
          },
          "metadata": {},
          "execution_count": 15
        },
        {
          "output_type": "display_data",
          "data": {
            "text/plain": [
              "<Figure size 360x648 with 1 Axes>"
            ],
            "image/png": "[encoded data removed]"
          },
          "metadata": {
            "needs_background": "light"
          }
        }
      ]
    },
    {
      "cell_type": "code",
      "source": [
        "# Now let's try with RandomForest\n",
        "\n",
        "rf = RandomForestClassifier()\n",
        "rf.fit(X_train,y_train)"
      ],
      "metadata": {
        "colab": {
          "base_uri": "https://localhost:8080/"
        },
        "id": "ZLUIsPymcWhN",
        "outputId": "10e0f851-97a8-4332-d84c-3f1e35a7b12a"
      },
      "execution_count": 16,
      "outputs": [
        {
          "output_type": "execute_result",
          "data": {
            "text/plain": [
              "RandomForestClassifier()"
            ]
          },
          "metadata": {},
          "execution_count": 16
        }
      ]
    },
    {
      "cell_type": "code",
      "source": [
        "# Let's see if the predictions are better than the Logistic Regression\n",
        "\n",
        "prediction_rf = rf.predict(X_test)\n",
        "rf_accuracy = accuracy_score(y_test, prediction_rf)\n",
        "\n",
        "print(f\"RF Model Accuracy: {rf_accuracy:.2%}\")"
      ],
      "metadata": {
        "id": "RobtHYeRmEqJ",
        "outputId": "d7f38b75-2b7a-4056-fec0-ee2da06ada12",
        "colab": {
          "base_uri": "https://localhost:8080/"
        }
      },
      "execution_count": 17,
      "outputs": [
        {
          "output_type": "stream",
          "name": "stdout",
          "text": [
            "RF Model Accuracy: 66.33%\n"
          ]
        }
      ]
    },
    {
      "cell_type": "code",
      "source": [
        "# Better from the first try, let's try to improve it\n",
        "\n",
        "rf2 = RandomForestClassifier(n_estimators=300)\n",
        "rf2.fit(X_train,y_train)"
      ],
      "metadata": {
        "id": "tHBFCL17nVtN",
        "outputId": "ea13124f-ce0f-4e6f-da9d-c64e8d70cf5c",
        "colab": {
          "base_uri": "https://localhost:8080/"
        }
      },
      "execution_count": 18,
      "outputs": [
        {
          "output_type": "execute_result",
          "data": {
            "text/plain": [
              "RandomForestClassifier(n_estimators=300)"
            ]
          },
          "metadata": {},
          "execution_count": 18
        }
      ]
    },
    {
      "cell_type": "code",
      "source": [
        "# Let's see if the predictions are better than the previous one\n",
        "\n",
        "prediction_rf2 = rf2.predict(X_test)\n",
        "rf2_accuracy = accuracy_score(y_test, prediction_rf2)\n",
        "\n",
        "print(f\"RF Model Accuracy: {rf2_accuracy:.2%}\")"
      ],
      "metadata": {
        "id": "GPlqsP3jnj2R",
        "outputId": "f23cbf3d-fd9c-4f08-9092-03a253a26c25",
        "colab": {
          "base_uri": "https://localhost:8080/"
        }
      },
      "execution_count": 19,
      "outputs": [
        {
          "output_type": "stream",
          "name": "stdout",
          "text": [
            "RF Model Accuracy: 66.34%\n"
          ]
        }
      ]
    },
    {
      "cell_type": "code",
      "source": [
        "# WARNING: THIS CELL TAKES AGES TO RUN, DON'T RUN IT, try sequentialfeatureselection, \n",
        "# ML algorithm to try https://journals.ametsoc.org/view/journals/wefo/32/6/waf-d-17-0038_1.xml?tab_body=pdf\n",
        "\n",
        "# Tune of the hyperparameters for the Random Forest with parameters\n",
        "# For 'max_leaf_nodes', let's search between 2 and 120 and for 'min_samples_split', let's search between 2 and 10\n",
        "\n",
        "# param_grid helps to define the hyperparameters you would like to test, and the ranges the hyperparameters should be in\n",
        "'''param_grid = {'max_leaf_nodes':range(30,80),\n",
        "              'min_samples_split':range(2,10)}\n",
        "\n",
        "# Then, perform the GridSearch on the RandomForest\n",
        "\n",
        "rsc_rf = HalvingRandomSearchCV(RandomForestClassifier(random_state=42),param_grid,cv=10,verbose=3)\n",
        "\n",
        "# Next, try a new fit with the training data\n",
        "\n",
        "rsc_rf.fit(X_train,y_train)'''\n",
        "\n",
        "sfs = SequentialFeatureSelector(rf, n_features_to_select=4, cv=3, n_jobs=3)\n",
        "sfs.fit(X_train,y_train)"
      ],
      "metadata": {
        "colab": {
          "base_uri": "https://localhost:8080/"
        },
        "id": "Lwpu82B9bviR",
        "outputId": "280e2d50-f158-4b98-a8d0-b803189c7121"
      },
      "execution_count": 44,
      "outputs": [
        {
          "output_type": "execute_result",
          "data": {
            "text/plain": [
              "SequentialFeatureSelector(cv=3, estimator=RandomForestClassifier(),\n",
              "                          n_features_to_select=4, n_jobs=3)"
            ]
          },
          "metadata": {},
          "execution_count": 44
        }
      ]
    },
    {
      "cell_type": "code",
      "source": [
        "# Best estimators are the following:\n",
        "selected_features = sfs.support_\n",
        "selected_features  = np.array(X_train.columns)[np.array(selected_features)]\n",
        "X_train_reduced = X_train[X_train.columns.intersection(selected_features)]\n",
        "X_test_reduced = X_test[X_test.columns.intersection(selected_features)]\n"
      ],
      "metadata": {
        "id": "jGgfk0MgyCqf"
      },
      "execution_count": 101,
      "outputs": []
    },
    {
      "cell_type": "code",
      "source": [
        "rf3 = RandomForestClassifier(n_estimators=300)\n",
        "rf3.fit(X_train_reduced,y_train)"
      ],
      "metadata": {
        "id": "3qwUVM8zGuZp",
        "outputId": "0e60aa01-37bf-4acd-a907-756a682cceee",
        "colab": {
          "base_uri": "https://localhost:8080/"
        }
      },
      "execution_count": 102,
      "outputs": [
        {
          "output_type": "execute_result",
          "data": {
            "text/plain": [
              "RandomForestClassifier(n_estimators=300)"
            ]
          },
          "metadata": {},
          "execution_count": 102
        }
      ]
    },
    {
      "cell_type": "code",
      "source": [
        "# Let's see the prediction from the tuned RF\n",
        "\n",
        "prediction_rf3 = rf3.predict(X_test_reduced)\n",
        "sfs_accuracy = accuracy_score(y_test, prediction_rf3)\n",
        "\n",
        "print(f\"RF Model Accuracy: {sfs_accuracy:.2%}\")"
      ],
      "metadata": {
        "id": "oxPBdJSayPRC",
        "outputId": "12d87839-d38d-429f-8b30-385adbcaf493",
        "colab": {
          "base_uri": "https://localhost:8080/"
        }
      },
      "execution_count": 104,
      "outputs": [
        {
          "output_type": "stream",
          "name": "stdout",
          "text": [
            "RF Model Accuracy: 60.88%\n"
          ]
        }
      ]
    },
    {
      "cell_type": "code",
      "source": [
        "# Now let's compare it with prediction based on the training and testing set\n",
        "\n",
        "y_pred_train = rsc_rf.predict(X_train)\n",
        "print(f'Accuracy over training set: {(accuracy_score(y_train,y_pred_train)):.2%} \\n' \n",
        "f'Accuracy over test set: {(accuracy_score(y_test,prediction_rf3)):.2%}')"
      ],
      "metadata": {
        "id": "W69Yr1U55sjr",
        "outputId": "43812093-107c-4d94-9856-8e88b8ecfcd7",
        "colab": {
          "base_uri": "https://localhost:8080/"
        }
      },
      "execution_count": 23,
      "outputs": [
        {
          "output_type": "stream",
          "name": "stdout",
          "text": [
            "Accuracy over training set: 69.87% \n",
            "Accuracy over test set: 64.77%\n"
          ]
        }
      ]
    },
    {
      "cell_type": "code",
      "source": [
        "# Results are barely better than the first try with RF, let's see the confusion matrix\n",
        "\n",
        "cm = confusion_matrix(y_test, prediction_rf3, normalize='pred')\n",
        "disp = ConfusionMatrixDisplay(confusion_matrix = cm)\n",
        "disp.plot()"
      ],
      "metadata": {
        "id": "EyqwKgAso9Mz",
        "outputId": "65c0ea7f-96cf-414a-efaf-94056691a39b",
        "colab": {
          "base_uri": "https://localhost:8080/",
          "height": 296
        }
      },
      "execution_count": 24,
      "outputs": [
        {
          "output_type": "execute_result",
          "data": {
            "text/plain": [
              "<sklearn.metrics._plot.confusion_matrix.ConfusionMatrixDisplay at 0x7f790f494460>"
            ]
          },
          "metadata": {},
          "execution_count": 24
        },
        {
          "output_type": "display_data",
          "data": {
            "text/plain": [
              "<Figure size 432x288 with 2 Axes>"
            ],
            "image/png": "[encoded data removed]"
          },
          "metadata": {
            "needs_background": "light"
          }
        }
      ]
    },
    {
      "cell_type": "code",
      "source": [
        "# Since the performance are not clearly better than the LR, let's see what features are important for the RF\n",
        "# The following cell was copied from https://scikit-learn.org/stable/auto_examples/ensemble/plot_forest_importances.html\n",
        "# This cell mainly extract the importances of each feature and standardized them\n",
        "# It also check how much time it takes\n",
        "\n",
        "import time\n",
        "\n",
        "start_time = time.time()\n",
        "importances = rf2.feature_importances_\n",
        "std = np.std([tree.feature_importances_ for tree in rf2.estimators_], axis=0)\n",
        "elapsed_time = time.time() - start_time\n",
        "\n",
        "print(f\"Elapsed time to compute the importances: {elapsed_time:.3f} seconds\")"
      ],
      "metadata": {
        "colab": {
          "base_uri": "https://localhost:8080/"
        },
        "id": "ob9Fby0DdqVx",
        "outputId": "f5593732-404a-4df4-939e-56954c8c2df0"
      },
      "execution_count": 25,
      "outputs": [
        {
          "output_type": "stream",
          "name": "stdout",
          "text": [
            "Elapsed time to compute the importances: 0.087 seconds\n"
          ]
        }
      ]
    },
    {
      "cell_type": "code",
      "source": [
        "# Let's see the features importance\n",
        "# This cell was copied also from https://scikit-learn.org/stable/auto_examples/ensemble/plot_forest_importances.html\n",
        "\n",
        "forest_importances = pd.Series(importances, index=features_names)\n",
        "\n",
        "fig, ax = plt.subplots()\n",
        "forest_importances.plot.bar(yerr=std, ax=ax)\n",
        "ax.set_title(\"Feature importances using MDI\")\n",
        "ax.set_ylabel(\"Mean decrease in impurity\")\n",
        "fig.tight_layout()"
      ],
      "metadata": {
        "colab": {
          "base_uri": "https://localhost:8080/",
          "height": 297
        },
        "id": "ofQBXwZed8YI",
        "outputId": "5e1335c4-f7c7-4398-afde-1c5bae9a8aa1"
      },
      "execution_count": 26,
      "outputs": [
        {
          "output_type": "display_data",
          "data": {
            "text/plain": [
              "<Figure size 432x288 with 1 Axes>"
            ],
            "image/png": "[encoded data removed]"
          },
          "metadata": {
            "needs_background": "light"
          }
        }
      ]
    },
    {
      "cell_type": "code",
      "source": [
        "# Let's try to permute the features and see how the model refit them\n",
        "# Again, this was copied from https://scikit-learn.org/stable/auto_examples/ensemble/plot_forest_importances.html\n",
        "\n",
        "from sklearn.inspection import permutation_importance\n",
        "\n",
        "start_time = time.time()\n",
        "result = permutation_importance(\n",
        "    rf, X_test, y_test, n_repeats=10, random_state=42, n_jobs=2\n",
        ")\n",
        "elapsed_time = time.time() - start_time\n",
        "print(f\"Elapsed time to compute the importances: {elapsed_time:.3f} seconds\")\n",
        "\n",
        "forest_importances = pd.Series(result.importances_mean, index=features_names)"
      ],
      "metadata": {
        "id": "PHDTm3pWfLYq",
        "outputId": "2df02e44-f349-4579-f4fc-07e66fb22d2e",
        "colab": {
          "base_uri": "https://localhost:8080/"
        }
      },
      "execution_count": 27,
      "outputs": [
        {
          "output_type": "stream",
          "name": "stdout",
          "text": [
            "Elapsed time to compute the importances: 32.366 seconds\n"
          ]
        }
      ]
    },
    {
      "cell_type": "code",
      "source": [
        "# Let's see the results. The higher the bar is, the more important the feature is\n",
        "\n",
        "fig, ax = plt.subplots()\n",
        "forest_importances.plot.bar(yerr=result.importances_std, ax=ax)\n",
        "ax.set_title(\"Feature importances using permutation on full model\")\n",
        "ax.set_ylabel(\"Mean accuracy decrease\")\n",
        "fig.tight_layout()\n",
        "plt.show()"
      ],
      "metadata": {
        "id": "4OerjIyjfTz9",
        "outputId": "aefd7e82-027d-4067-a83d-51d633c712fe",
        "colab": {
          "base_uri": "https://localhost:8080/",
          "height": 297
        }
      },
      "execution_count": 28,
      "outputs": [
        {
          "output_type": "display_data",
          "data": {
            "text/plain": [
              "<Figure size 432x288 with 1 Axes>"
            ],
            "image/png": "[encoded data removed]"
          },
          "metadata": {
            "needs_background": "light"
          }
        }
      ]
    }
  ]
}