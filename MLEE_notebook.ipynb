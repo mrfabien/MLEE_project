{
  "nbformat": 4,
  "nbformat_minor": 0,
  "metadata": {
    "colab": {
      "provenance": [],
      "mount_file_id": "https://github.com/mrfabien/MLEE_project/blob/main/Europe_winds.ipynb",
      "authorship_tag": "ABX9TyMPwUoLaWxYm7n1iCluZm4y",
      "include_colab_link": true
    },
    "kernelspec": {
      "name": "python3",
      "display_name": "Python 3"
    },
    "language_info": {
      "name": "python"
    },
    "accelerator": "GPU",
    "gpuClass": "standard"
  },
  "cells": [
    {
      "cell_type": "markdown",
      "metadata": {
        "id": "view-in-github",
        "colab_type": "text"
      },
      "source": [
        "<a href=\"https://colab.research.google.com/github/mrfabien/MLEE_project/blob/main/MLEE_notebook.ipynb\" target=\"_parent\"><img src=\"https://colab.research.google.com/assets/colab-badge.svg\" alt=\"Open In Colab\"/></a>"
      ]
    },
    {
      "cell_type": "markdown",
      "source": [
        "# Notebook Setup\n",
        "\n",
        "A few librairies are going to be used, so let's install them. For panda, you'll need to restart the kernel to update it, otherwise it won't work."
      ],
      "metadata": {
        "id": "jaNNYvXQh07x"
      }
    },
    {
      "cell_type": "code",
      "source": [
        "# Panda version needs to be higher than 1.4.1 to extract the data\n",
        "\n",
        "import numpy as np\n",
        "import pandas as pd\n",
        "import matplotlib.pyplot as plt\n",
        "from sklearn.model_selection import train_test_split\n",
        "from sklearn.linear_model import LogisticRegression\n",
        "from sklearn.ensemble import RandomForestClassifier\n",
        "from sklearn.metrics import accuracy_score, ConfusionMatrixDisplay, confusion_matrix\n",
        "from sklearn.tree import DecisionTreeClassifier\n",
        "from sklearn.ensemble import GradientBoostingClassifier\n",
        "import time\n",
        "from sklearn.inspection import permutation_importance\n",
        "\n",
        "# explicitly require this experimental feature\n",
        "from sklearn.experimental import enable_halving_search_cv # noqa\n",
        "# now you can import normally from model_selection\n",
        "from sklearn.model_selection import HalvingGridSearchCV\n",
        "\n",
        "pd.__version__ \n",
        "%pip install pandas==1.4.4"
      ],
      "metadata": {
        "id": "FGpH5ClDTie1",
        "outputId": "649f9a19-7c60-46de-f701-f91b83235b41",
        "colab": {
          "base_uri": "https://localhost:8080/"
        }
      },
      "execution_count": 1,
      "outputs": [
        {
          "output_type": "stream",
          "name": "stdout",
          "text": [
            "Looking in indexes: https://pypi.org/simple, https://us-python.pkg.dev/colab-wheels/public/simple/\n",
            "Requirement already satisfied: pandas==1.4.4 in /usr/local/lib/python3.8/dist-packages (1.4.4)\n",
            "Requirement already satisfied: pytz>=2020.1 in /usr/local/lib/python3.8/dist-packages (from pandas==1.4.4) (2022.6)\n",
            "Requirement already satisfied: numpy>=1.18.5 in /usr/local/lib/python3.8/dist-packages (from pandas==1.4.4) (1.21.6)\n",
            "Requirement already satisfied: python-dateutil>=2.8.1 in /usr/local/lib/python3.8/dist-packages (from pandas==1.4.4) (2.8.2)\n",
            "Requirement already satisfied: six>=1.5 in /usr/local/lib/python3.8/dist-packages (from python-dateutil>=2.8.1->pandas==1.4.4) (1.15.0)\n"
          ]
        }
      ]
    },
    {
      "cell_type": "markdown",
      "source": [
        "# Data preparation\n",
        "\n",
        "Since the dataset is split into 2, one for moderate winds and the other dfor extreme winds. Let's merge them to simplify the notebook"
      ],
      "metadata": {
        "id": "fPP0U9M4iuvH"
      }
    },
    {
      "cell_type": "code",
      "execution_count": 2,
      "metadata": {
        "id": "TeHQPY9PJbFt"
      },
      "outputs": [],
      "source": [
        "# Path of the dataset\n",
        "\n",
        "path_75 = 'df_europewinds_75.pkl'\n",
        "path_95 = 'df_europewinds_95.pkl'"
      ]
    },
    {
      "cell_type": "markdown",
      "source": [
        "Let's look at the datasets"
      ],
      "metadata": {
        "id": "ENATc48DgfYi"
      }
    },
    {
      "cell_type": "code",
      "source": [
        "data_75 = pd.read_pickle(open(path_75, 'rb'))\n",
        "describ_75 = data_75.describe()"
      ],
      "metadata": {
        "id": "TkwZdmSpUA5w"
      },
      "execution_count": 39,
      "outputs": []
    },
    {
      "cell_type": "code",
      "source": [
        "data_95 = pd.read_pickle(open(path_95, 'rb'))\n",
        "describ_95 = data_95.describe()"
      ],
      "metadata": {
        "id": "jodHrpzEVZ2R"
      },
      "execution_count": 34,
      "outputs": []
    },
    {
      "cell_type": "markdown",
      "source": [
        "We need to create a new column to know whether or not it was a moderate wind or an extreme wind."
      ],
      "metadata": {
        "id": "0en9ac1vi9WC"
      }
    },
    {
      "cell_type": "code",
      "source": [
        "# Intensity 1 means extreme convective winds bursts and 0 means moderate convective bursts\n",
        "\n",
        "data_75['intensity']=0\n",
        "data_95['intensity']=1"
      ],
      "metadata": {
        "id": "rN3Bwoo_VuLX"
      },
      "execution_count": 5,
      "outputs": []
    },
    {
      "cell_type": "code",
      "source": [
        "# Merge the 2 dataset and separate the features from the intensity\n",
        "\n",
        "data_merged = pd.concat((data_75,data_95))\n",
        "y_all = data_merged['intensity']\n",
        "X_all = data_merged.iloc[:,2:-1]"
      ],
      "metadata": {
        "id": "QBXdUb-tWHSN"
      },
      "execution_count": 6,
      "outputs": []
    },
    {
      "cell_type": "code",
      "source": [
        "# Store the name of each predictor\n",
        "\n",
        "features_names = data_merged.columns[2:-1]"
      ],
      "metadata": {
        "id": "GYCWYwZfexWL"
      },
      "execution_count": 7,
      "outputs": []
    },
    {
      "cell_type": "markdown",
      "source": [
        "# Data splitting\n",
        "\n",
        "Two splitting of the dataset can be tested. One with train_test_split() and the other one with the 8 first years for the training, the next one for testing and the last one for validation."
      ],
      "metadata": {
        "id": "aI6jF_acjOJC"
      }
    },
    {
      "cell_type": "code",
      "source": [
        "# Splitting of the dataset with years\n",
        "\n",
        "'''\n",
        "years_training = np.arange(0,7)\n",
        "years_test = np.arange(7,8)\n",
        "years_valid = np.arange(8,9)\n",
        "\n",
        "data_training = data_merged.loc[data_merged['year'].isin(years_training)]\n",
        "data_test = data_merged.loc[data_merged['year'].isin(years_test)]\n",
        "data_valid = data_merged.loc[data_merged['year'].isin(years_valid)]\n",
        "\n",
        "X_train = data_training.iloc[:,2:-1]\n",
        "y_train = data_training['intensity']\n",
        "X_test = data_test.iloc[:,2:-1]\n",
        "y_test = data_test['intensity']\n",
        "X_valid = data_valid.iloc[:,2:-1]\n",
        "y_valid = data_valid['intensity']\n",
        "'''"
      ],
      "metadata": {
        "id": "myX3C92PiqHf"
      },
      "execution_count": null,
      "outputs": []
    },
    {
      "cell_type": "code",
      "source": [
        "# Splitting the dataset into a training (64%), testing (20%), and validation set (16%)\n",
        "\n",
        "X_train_valid, X_test, y_train_valid, y_test = train_test_split(X_all, y_all, train_size=0.8)\n",
        "X_train, X_valid, y_train, y_valid = train_test_split(X_train_valid, y_train_valid, train_size=0.8)"
      ],
      "metadata": {
        "id": "z4sps3vXX5cB"
      },
      "execution_count": 8,
      "outputs": []
    },
    {
      "cell_type": "markdown",
      "source": [
        "# 1st algorithm : Logistic Regression\n",
        "\n",
        "\n",
        "Let's try to predict the 2 classes of winds bursts with Logistic Regression on default settings"
      ],
      "metadata": {
        "id": "6nA3sl3kjf2o"
      }
    },
    {
      "cell_type": "code",
      "source": [
        "# Fitting the training set \n",
        "\n",
        "lr_default = LogisticRegression(random_state=42)\n",
        "lr_default.fit(X_train, y_train)"
      ],
      "metadata": {
        "id": "C5haDirDZqTy"
      },
      "execution_count": null,
      "outputs": []
    },
    {
      "cell_type": "code",
      "source": [
        "# Prediction with the test set\n",
        "\n",
        "prediction_lr_default = lr_default.predict(X_test)\n",
        "\n",
        "lr_default_accuracy = accuracy_score(y_test, prediction_lr_default)\n",
        "\n",
        "print(f\"Logistic Regression model accuracy with default settings: {lr_default_accuracy:.2%}\")"
      ],
      "metadata": {
        "id": "bbuGoMCDZqXF"
      },
      "execution_count": null,
      "outputs": []
    },
    {
      "cell_type": "markdown",
      "source": [
        "The accuracy is ok, around 60%, so let's try to adujst the solver by picking another one."
      ],
      "metadata": {
        "id": "e__LKMmSjcMI"
      }
    },
    {
      "cell_type": "code",
      "source": [
        "# Fitting the training set with 'liblinear' solver. \n",
        "# The solver 'newton-cg' fits a little bit better, but the 4 solvers have roughly the same accuracy\n",
        "\n",
        "lr_custom = LogisticRegression(solver='liblinear',\n",
        "                                random_state=42)\n",
        "lr_custom.fit(X_train, y_train)"
      ],
      "metadata": {
        "id": "b0UdtiWHeFAD"
      },
      "execution_count": null,
      "outputs": []
    },
    {
      "cell_type": "code",
      "source": [
        "# Let's try a prediction with the testing set\n",
        "\n",
        "prediction_lr_custom = lr_custom.predict(X_train)\n",
        "lr_custom_accuracy = accuracy_score(y_train, prediction_lr_custom)\n",
        "\n",
        "\n",
        "print(f\"Logistic Regression Model accuracy with costums settings on training set: {lr_custom_accuracy:.2%}\")"
      ],
      "metadata": {
        "id": "6HGE7eoledj2"
      },
      "execution_count": null,
      "outputs": []
    },
    {
      "cell_type": "markdown",
      "source": [
        "The accuracy is marginally better, so let's try to see the accuracy on the testing set and the validation set."
      ],
      "metadata": {
        "id": "mSAW-tu9kvUO"
      }
    },
    {
      "cell_type": "code",
      "source": [
        "# Prediction of the testing and validation set\n",
        "\n",
        "y_pred_test_LR = lr_custom.predict(X_test)\n",
        "y_pred_valid_LR = lr_custom.predict(X_valid)\n",
        "print(f'Accuracy over training set: {(accuracy_score(y_test,y_pred_test_LR)):.2%} \\n' \n",
        "f'Accuracy over test set: {(accuracy_score(y_valid,y_pred_valid_LR)):.2%}')"
      ],
      "metadata": {
        "id": "sL5nJ6zSknwE"
      },
      "execution_count": null,
      "outputs": []
    },
    {
      "cell_type": "markdown",
      "source": [
        "The accuracy is still not good, just above 60%. The next step is to see the prediction with the confusion matrix on the testing set."
      ],
      "metadata": {
        "id": "_eH6FXz3p6I3"
      }
    },
    {
      "cell_type": "markdown",
      "source": [
        "## Confusion Matrix on the testing set\n",
        "This matrix allows to see : \n",
        "\n",
        "*   the the true positive (1,1)\n",
        "*   the true negative (0,0)\n",
        "*   the false negative (0,1)\n",
        "*   the false positive (1,0)"
      ],
      "metadata": {
        "id": "IC8YwiD-lz_m"
      }
    },
    {
      "cell_type": "code",
      "source": [
        "# Confusion matrix on the testing set\n",
        "\n",
        "cm = confusion_matrix(y_test, y_pred_test_LR, normalize='pred')\n",
        "disp = ConfusionMatrixDisplay(confusion_matrix = cm)\n",
        "disp.plot()"
      ],
      "metadata": {
        "id": "3QvYadPBZ_iO"
      },
      "execution_count": null,
      "outputs": []
    },
    {
      "cell_type": "markdown",
      "source": [
        "Result should look like the following image:\n",
        "\n",
        "![confusion_matrix_LR.png](data:image/png;base64,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)\n",
        "\n",
        "From this matrix, we can learn that the Logistic Regression predicts 44% with false positive and 38% with false negative. "
      ],
      "metadata": {
        "id": "WZQeKyvwnOAS"
      }
    },
    {
      "cell_type": "markdown",
      "source": [
        "## Features permutation\n",
        "\n",
        "The feature permutation gives an insight on which predictor is mainly used for the model. The following cell was copied from https://scikit-learn.org/stable/auto_examples/ensemble/plot_forest_importances.html.\n",
        "\n",
        "\n",
        "This cell mainly extract the importances of each feature and standardized them. It also check how much time it takes"
      ],
      "metadata": {
        "id": "8ERCoIc_qOXn"
      }
    },
    {
      "cell_type": "code",
      "source": [
        "# Permutation of the features \n",
        "\n",
        "start_time = time.time()\n",
        "result_LR = permutation_importance(\n",
        "    lr_custom, X_test, y_test, n_repeats=20, random_state=42, n_jobs=6\n",
        ")\n",
        "elapsed_time = time.time() - start_time\n",
        "print(f\"Elapsed time to compute the importances: {elapsed_time:.3f} seconds\")\n",
        "\n",
        "logistic_importances = pd.Series(result_LR.importances_mean, index=features_names)\n",
        "\n",
        "# Let's see the resutls. The higher the bar is, the more important the feature is\n",
        "\n",
        "fig, ax = plt.subplots()\n",
        "logistic_importances.plot.bar(yerr=result_LR.importances_std, ax=ax)\n",
        "ax.set_title(\"Feature importances using permutation on costum LR\")\n",
        "ax.set_ylabel(\"Mean accuracy decrease\")\n",
        "fig.tight_layout()\n",
        "plt.show()"
      ],
      "metadata": {
        "id": "P55jOwIgauEw"
      },
      "execution_count": null,
      "outputs": []
    },
    {
      "cell_type": "markdown",
      "source": [
        "Logistic Regression doesn't really give strong results. Let's try Random Forest Classifier"
      ],
      "metadata": {
        "id": "KYleAOxMrgn_"
      }
    },
    {
      "cell_type": "markdown",
      "source": [
        "# 2nd algorithm: Random Forest Classifier\n",
        "Let's try to predict the 2 classes of winds bursts with Random Forest Classifier on default settings"
      ],
      "metadata": {
        "id": "BWcT_D1sm_Dh"
      }
    },
    {
      "cell_type": "code",
      "source": [
        "# Fitting the training set \n",
        "\n",
        "rf_default = RandomForestClassifier(n_jobs = 6, random_state=42)\n",
        "rf_default.fit(X_train,y_train)"
      ],
      "metadata": {
        "colab": {
          "base_uri": "https://localhost:8080/"
        },
        "id": "ZLUIsPymcWhN",
        "outputId": "feb54483-df7c-4d85-c20d-dcf1c0cc38bd"
      },
      "execution_count": 9,
      "outputs": [
        {
          "output_type": "execute_result",
          "data": {
            "text/plain": [
              "RandomForestClassifier(n_jobs=6, random_state=42)"
            ]
          },
          "metadata": {},
          "execution_count": 9
        }
      ]
    },
    {
      "cell_type": "code",
      "source": [
        "# Predictions of the testing set\n",
        "\n",
        "prediction_rf_default = rf_default.predict(X_test)\n",
        "rf_default_accuracy = accuracy_score(y_test, prediction_rf_default)\n",
        "\n",
        "print(f\"Random Forest model accuracy with default settings:: {rf_default_accuracy:.2%}\")"
      ],
      "metadata": {
        "id": "RobtHYeRmEqJ",
        "outputId": "37d1d42a-c382-45d0-f930-eed7706c59f5",
        "colab": {
          "base_uri": "https://localhost:8080/"
        }
      },
      "execution_count": 10,
      "outputs": [
        {
          "output_type": "stream",
          "name": "stdout",
          "text": [
            "Random Forest model accuracy with default settings:: 67.00%\n"
          ]
        }
      ]
    },
    {
      "cell_type": "markdown",
      "source": [
        "Already, results are better than the Logistic Regression, but still under 70% of accuracy. Next step is to tune the hyperparameters"
      ],
      "metadata": {
        "id": "PkBs9_Kksp2g"
      }
    },
    {
      "cell_type": "markdown",
      "source": [
        "## Hyperparameters tuning\n",
        "\n",
        "WARNING: this cell takes a long time to run (40 minutes). 4 different hyperparameters are tuned. I left the cell if you want to try it, but there's a list of the best estimators I've found after this cell."
      ],
      "metadata": {
        "id": "REhnNAxts7Vc"
      }
    },
    {
      "cell_type": "code",
      "source": [
        "# param_grid helps to define the hyperparameters you would like to test, \n",
        "# and the ranges the hyperparameters should be in\n",
        "'''\n",
        "param_grid = {'max_leaf_nodes':np.arange(60,220,20),\n",
        "              'min_samples_split':np.arange(5,30,5),\n",
        "              'n_estimators': np.arange(50, 300, 50),\n",
        "              'max_depth': [3, 10, 20, 40]}\n",
        "\n",
        "# Then, perform the HalvingGridSearch on the RandomForest\n",
        "\n",
        "rf_custom = HalvingGridSearchCV(RandomForestClassifier(random_state=42),param_grid,cv=10,verbose=2, n_jobs=10, random_state=42)\n",
        "\n",
        "# Next, try a new fit with the training set\n",
        "\n",
        "start_time = time.time()\n",
        "rf_custom.fit(X_train,y_train)\n",
        "elapsed_time_RF = time.time() - start_time\n",
        "print(f\"Elapsed time to fit the training set with tuned hyperparameters Random Forest Classifier : {elapsed_time_RF:.3f} seconds\")\n",
        "'''"
      ],
      "metadata": {
        "id": "tHBFCL17nVtN"
      },
      "execution_count": null,
      "outputs": []
    },
    {
      "cell_type": "code",
      "source": [
        "# Best estimators are the following:\n",
        "\n",
        "#print('Best estimators are the following:',rf_custom.best_estimator_)\n",
        "\n",
        "ls_be_RF = []\n",
        "'''\n",
        "ls_be_RF = [rf_custom.best_params_['max_leaf_nodes'],\n",
        "            rf_custom.best_params_['min_samples_split'],\n",
        "            rf_custom.best_params_['n_estimators'],\n",
        "            rf_custom.best_params_['max_depth']]\n",
        "'''\n",
        "# From the few tests I've conducted, the best estimators so far are the following:\n",
        "\n",
        "ls_be_RF= [200, 15, 150, 10]\n",
        "\n",
        "# Let's see the prediction from the tuned RF\n",
        "\n",
        "rf_custom = RandomForestClassifier(max_leaf_nodes= ls_be_RF[0],\n",
        "                                   min_samples_split= ls_be_RF[1],\n",
        "                                   n_estimators= ls_be_RF[2],\n",
        "                                   max_depth= ls_be_RF[3])\n",
        "rf_custom.fit(X_train,y_train)\n",
        "prediction_rf_custom = rf_custom.predict(X_train)\n",
        "rf_custom_accuracy = accuracy_score(y_train, prediction_rf_custom)\n",
        "\n",
        "print(f\"RF hyperparameters tuning Model Accuracy: {rf_custom_accuracy:.2%}\")\n",
        "\n",
        "# Now let's compare it with prediction based on the training and testing set\n",
        "\n",
        "y_pred_test_RF = rf_custom.predict(X_test)\n",
        "y_pred_valid_RF = rf_custom.predict(X_valid)\n",
        "print(f'Accuracy over training set: {(accuracy_score(y_test,y_pred_test_RF)):.2%} \\n' \n",
        "f'Accuracy over validation set: {(accuracy_score(y_valid,y_pred_valid_RF)):.2%}')"
      ],
      "metadata": {
        "id": "GPlqsP3jnj2R",
        "outputId": "6bd10b99-983e-469b-fb9a-4c8c12221739",
        "colab": {
          "base_uri": "https://localhost:8080/"
        }
      },
      "execution_count": 15,
      "outputs": [
        {
          "output_type": "stream",
          "name": "stdout",
          "text": [
            "RF hyperparameters tuning Model Accuracy: 74.27%\n",
            "Accuracy over training set: 65.74% \n",
            "Accuracy over validation set: 66.48%\n"
          ]
        }
      ]
    },
    {
      "cell_type": "markdown",
      "source": [
        "Results are barely better than the first try with RF, let's see the confusion matrix"
      ],
      "metadata": {
        "id": "iEIv7kfS3Yp5"
      }
    },
    {
      "cell_type": "markdown",
      "source": [
        "## Confusion Matrix on testing test\n",
        "This matrix allows us to see: \n",
        "\n",
        "*   the the true positive (1,1)\n",
        "*   the true negative (0,0)\n",
        "*   the false negative (0,1)\n",
        "*   the false positive (1,0)\n",
        "\n",
        "On the testing set."
      ],
      "metadata": {
        "id": "vJUS53Xu3aUH"
      }
    },
    {
      "cell_type": "code",
      "source": [
        "# Confusion matrix on the testing set\n",
        "\n",
        "cm = confusion_matrix(y_test, y_pred_test_RF, normalize='pred')\n",
        "disp = ConfusionMatrixDisplay(confusion_matrix = cm)\n",
        "disp.plot()"
      ],
      "metadata": {
        "colab": {
          "base_uri": "https://localhost:8080/",
          "height": 296
        },
        "id": "Lwpu82B9bviR",
        "outputId": "5acaf8a4-afc5-4b79-dc83-4b9d8e246f56"
      },
      "execution_count": 17,
      "outputs": [
        {
          "output_type": "execute_result",
          "data": {
            "text/plain": [
              "<sklearn.metrics._plot.confusion_matrix.ConfusionMatrixDisplay at 0x7ff9e0c66130>"
            ]
          },
          "metadata": {},
          "execution_count": 17
        },
        {
          "output_type": "display_data",
          "data": {
            "text/plain": [
              "<Figure size 432x288 with 2 Axes>"
            ],
            "image/png": "[encoded data removed]"
          },
          "metadata": {
            "needs_background": "light"
          }
        }
      ]
    },
    {
      "cell_type": "markdown",
      "source": [
        "## Features permutation\n",
        "\n",
        "Since the performance are not clearly better than the LR, let's see what features are important for the RF. The following cell was copied from https://scikit-learn.org/stable/auto_examples/ensemble/plot_forest_importances.html.\n",
        "\n",
        "This cell mainly permute the features and see how the model refit them. \n",
        "It also check how much time it takes"
      ],
      "metadata": {
        "id": "c7FD3LS3AoXE"
      }
    },
    {
      "cell_type": "code",
      "source": [
        "# Permutation of the features and see how the model refit them\n",
        "\n",
        "from sklearn.inspection import permutation_importance\n",
        "\n",
        "start_time = time.time()\n",
        "result = permutation_importance(\n",
        "    rf_custom, X_test, y_test, n_repeats=10, random_state=42, n_jobs=2\n",
        ")\n",
        "elapsed_time = time.time() - start_time\n",
        "print(f\"Elapsed time to compute the importances: {elapsed_time:.3f} seconds\")\n",
        "\n",
        "forest_importances = pd.Series(result.importances_mean, index=features_names)"
      ],
      "metadata": {
        "id": "PHDTm3pWfLYq",
        "colab": {
          "base_uri": "https://localhost:8080/"
        },
        "outputId": "ed6c9f7c-d373-4681-d6b9-95e0feb378d4"
      },
      "execution_count": 18,
      "outputs": [
        {
          "output_type": "stream",
          "name": "stdout",
          "text": [
            "Elapsed time to compute the importances: 25.409 seconds\n"
          ]
        }
      ]
    },
    {
      "cell_type": "code",
      "source": [
        "# Let's see the results. The higher the bar is, the more important the feature is for the model\n",
        "\n",
        "fig, ax = plt.subplots()\n",
        "forest_importances.plot.bar(yerr=result.importances_std, ax=ax)\n",
        "ax.set_title(\"Feature importances using permutation on full model\")\n",
        "ax.set_ylabel(\"Mean accuracy decrease\")\n",
        "fig.tight_layout()\n",
        "plt.show()"
      ],
      "metadata": {
        "id": "4OerjIyjfTz9",
        "colab": {
          "base_uri": "https://localhost:8080/",
          "height": 297
        },
        "outputId": "2dad94a7-57bd-4d12-a4a5-78e774ba7dd6"
      },
      "execution_count": 19,
      "outputs": [
        {
          "output_type": "display_data",
          "data": {
            "text/plain": [
              "<Figure size 432x288 with 1 Axes>"
            ],
            "image/png": "[encoded data removed]"
          },
          "metadata": {
            "needs_background": "light"
          }
        }
      ]
    },
    {
      "cell_type": "markdown",
      "source": [
        "# 3rd algorithm: Decision Tree Classifier\n",
        "\n",
        "The same methodology used for Random Forest is applied for this algorithm"
      ],
      "metadata": {
        "id": "Pg8ZRproBOUc"
      }
    },
    {
      "cell_type": "code",
      "source": [
        "# Fitting with default parameters\n",
        "\n",
        "dt_default = DecisionTreeClassifier(random_state=42)\n",
        "dt_default.fit(X_train,y_train)\n",
        "\n",
        "# Let's see if the predictions are better than the others\n",
        "\n",
        "prediction_dt_default = dt_default.predict(X_test)\n",
        "dt_default_accuracy = accuracy_score(y_test, prediction_rf_default)\n",
        "\n",
        "print(f\"Decision Tree default settings accuracy: {dt_default_accuracy:.2%}\")"
      ],
      "metadata": {
        "colab": {
          "base_uri": "https://localhost:8080/"
        },
        "id": "i9jDB50HBOFE",
        "outputId": "c72a5afc-ab54-47cf-fe19-acd6caa071be"
      },
      "execution_count": 21,
      "outputs": [
        {
          "output_type": "stream",
          "name": "stdout",
          "text": [
            "DT default Model Accuracy: 67.00%\n"
          ]
        }
      ]
    },
    {
      "cell_type": "markdown",
      "source": [
        "Same accuracy as the default model for Random Forest, let's try to improve it."
      ],
      "metadata": {
        "id": "hrnZSS9mB8y6"
      }
    },
    {
      "cell_type": "markdown",
      "source": [
        "## Hyperparameters tuning\n",
        "\n",
        "Only 3 different hyperparameters are tuned."
      ],
      "metadata": {
        "id": "EKt5vu8lCnJk"
      }
    },
    {
      "cell_type": "code",
      "source": [
        "# param_grid helps to define the hyperparameters you would like to test, \n",
        "# and the ranges the hyperparameters should be in\n",
        "\n",
        "param_grid2 = {'max_leaf_nodes':np.arange(60,220,20),\n",
        "               'min_samples_split':np.arange(5,30,5),\n",
        "               'max_depth': [3, 10, 20, 30, 40]}\n",
        "dt_custom = HalvingGridSearchCV(DecisionTreeClassifier(random_state=42),param_grid2,cv=10,verbose=2, n_jobs=10)\n",
        "\n",
        "# Next, try a new fit with the training data\n",
        "\n",
        "start_time = time.time()\n",
        "dt_custom.fit(X_train,y_train)\n",
        "elapsed_time_DT = time.time() - start_time\n",
        "\n",
        "print(f\"Elapsed time to fit the training set with tuned hyperparameters DT : {elapsed_time_DT:.3f} seconds\")"
      ],
      "metadata": {
        "colab": {
          "base_uri": "https://localhost:8080/"
        },
        "id": "qXP6G6fDCM8v",
        "outputId": "5ec4f570-ba34-40ba-f7ce-fd647df4c713"
      },
      "execution_count": 22,
      "outputs": [
        {
          "output_type": "stream",
          "name": "stdout",
          "text": [
            "n_iterations: 5\n",
            "n_required_iterations: 5\n",
            "n_possible_iterations: 5\n",
            "min_resources_: 284\n",
            "max_resources_: 23008\n",
            "aggressive_elimination: False\n",
            "factor: 3\n",
            "----------\n",
            "iter: 0\n",
            "n_candidates: 200\n",
            "n_resources: 284\n",
            "Fitting 10 folds for each of 200 candidates, totalling 2000 fits\n",
            "----------\n",
            "iter: 1\n",
            "n_candidates: 67\n",
            "n_resources: 852\n",
            "Fitting 10 folds for each of 67 candidates, totalling 670 fits\n",
            "----------\n",
            "iter: 2\n",
            "n_candidates: 23\n",
            "n_resources: 2556\n",
            "Fitting 10 folds for each of 23 candidates, totalling 230 fits\n",
            "----------\n",
            "iter: 3\n",
            "n_candidates: 8\n",
            "n_resources: 7668\n",
            "Fitting 10 folds for each of 8 candidates, totalling 80 fits\n",
            "----------\n",
            "iter: 4\n",
            "n_candidates: 3\n",
            "n_resources: 23004\n",
            "Fitting 10 folds for each of 3 candidates, totalling 30 fits\n",
            "Elapsed time to fit the training set with tuned hyperparameters DT : 38.819 seconds\n"
          ]
        }
      ]
    },
    {
      "cell_type": "code",
      "source": [
        "# Best estimators are the following:\n",
        "\n",
        "print('Best estimators are the following:',dt_custom.best_estimator_)\n",
        "\n",
        "ls_be_DT = []\n",
        "ls_be_DT = [dt_custom.best_params_['max_leaf_nodes'],\n",
        "            dt_custom.best_params_['min_samples_split'],\n",
        "            dt_custom.best_params_['max_depth']]\n",
        "\n",
        "# Let's see the prediction from the tuned Decision Tree\n",
        "\n",
        "prediction_dt_custom = dt_custom.predict(X_train)\n",
        "dt_custom_accuracy = accuracy_score(y_train, prediction_dt_custom)\n",
        "\n",
        "print(f\"DT hyperparameters tuning Model Accuracy: {dt_custom_accuracy:.2%}\")\n",
        "\n",
        "# Now let's compare it with prediction based on the training and testing set\n",
        "\n",
        "y_pred_test_DT = dt_custom.predict(X_test)\n",
        "y_pred_valid_DT = dt_custom.predict(X_valid)\n",
        "\n",
        "test_acc_DT = (accuracy_score(y_test,y_pred_test_DT))\n",
        "valid_acc_DT = (accuracy_score(y_valid,y_pred_valid_DT))\n",
        "print(f'Accuracy over the testing set: {(accuracy_score(y_test,y_pred_test_DT)):.2%} \\n' \n",
        "f'Accuracy over the validation set: {(accuracy_score(y_valid,y_pred_valid_DT)):.2%}')"
      ],
      "metadata": {
        "colab": {
          "base_uri": "https://localhost:8080/"
        },
        "id": "yZ0tcDtODZjl",
        "outputId": "2b3303e2-1601-45c9-b923-1ebf8bc883ed"
      },
      "execution_count": 23,
      "outputs": [
        {
          "output_type": "stream",
          "name": "stdout",
          "text": [
            "Best estimators are the following: DecisionTreeClassifier(max_depth=3, max_leaf_nodes=120, min_samples_split=10,\n",
            "                       random_state=42)\n",
            "DT hyperparameters tuning Model Accuracy: 63.67%\n",
            "Accuracy over the testing set: 63.28% \n",
            "Accuracy over the validation set: 63.02%\n"
          ]
        }
      ]
    },
    {
      "cell_type": "markdown",
      "source": [
        "Results are barely better than the default settings of the Decision Tree, let's see the confusion matrix."
      ],
      "metadata": {
        "id": "m-NPmGHqDtDP"
      }
    },
    {
      "cell_type": "markdown",
      "source": [
        "## Confusion Matrix on testing set\n",
        "\n",
        "This matrix allows us to see: \n",
        "\n",
        "*   the the true positive (1,1)\n",
        "*   the true negative (0,0)\n",
        "*   the false negative (0,1)\n",
        "*   the false positive (1,0)\n",
        "\n",
        "On the testing set.\n"
      ],
      "metadata": {
        "id": "Xy0n06RGD2wW"
      }
    },
    {
      "cell_type": "code",
      "source": [
        "cm = confusion_matrix(y_test, y_pred_test_DT, normalize='pred')\n",
        "disp = ConfusionMatrixDisplay(confusion_matrix = cm)\n",
        "disp.plot()"
      ],
      "metadata": {
        "colab": {
          "base_uri": "https://localhost:8080/",
          "height": 296
        },
        "id": "C-7yY-nyEET4",
        "outputId": "75f9c3d8-3b8a-4edc-ee63-97c83e5daccf"
      },
      "execution_count": 24,
      "outputs": [
        {
          "output_type": "execute_result",
          "data": {
            "text/plain": [
              "<sklearn.metrics._plot.confusion_matrix.ConfusionMatrixDisplay at 0x7ff9e02004c0>"
            ]
          },
          "metadata": {},
          "execution_count": 24
        },
        {
          "output_type": "display_data",
          "data": {
            "text/plain": [
              "<Figure size 432x288 with 2 Axes>"
            ],
            "image/png": "[encoded data removed]"
          },
          "metadata": {
            "needs_background": "light"
          }
        }
      ]
    },
    {
      "cell_type": "markdown",
      "source": [
        "## Features permutation\n",
        "\n",
        "Since the performance are not clearly better than the LR, let's see what features are important for the RF. The following cell was copied from https://scikit-learn.org/stable/auto_examples/ensemble/plot_forest_importances.html.\n",
        "\n",
        "This cell mainly permute the features and see how the model refit them. \n",
        "It also check how much time it takes"
      ],
      "metadata": {
        "id": "4ZVvWsCoEWwq"
      }
    },
    {
      "cell_type": "code",
      "source": [
        "# Since HalvingGridSearchCV doesn't allow us to see the feature importance, \n",
        "# the a new model has to be retrained with the best estimators found previously \n",
        "\n",
        "dt_custom_2 = DecisionTreeClassifier(max_leaf_nodes=ls_be_DT[0],\n",
        "                                     min_samples_leaf=ls_be_DT[1],\n",
        "                                     max_depth=ls_be_DT[2],\n",
        "                                     random_state=42)\n",
        "dt_custom_2.fit(X_train,y_train)\n",
        "prediction_dt_custom_2 = dt_custom_2.predict(X_train)\n",
        "dt_custom_2_accuracy = accuracy_score(y_train, prediction_dt_custom_2)\n",
        "print(f\"DT hyperparameters tuning Model Accuracy 2: {dt_custom_2_accuracy:.2%}\")\n",
        "\n",
        "# Accuracy is a little worse then the previous one (dt_custom)\n",
        "# Permutation of the features and see how the model refit them\n",
        "\n",
        "start_time = time.time()\n",
        "result_dt = permutation_importance(\n",
        "    dt_custom_2, X_test, y_test, n_repeats=20, random_state=42, n_jobs=6\n",
        ")\n",
        "elapsed_time = time.time() - start_time\n",
        "print(f\"Elapsed time to compute the importances: {elapsed_time:.3f} seconds\")\n",
        "\n",
        "decision_tree_importances = pd.Series(result_dt.importances_mean, index=features_names)\n",
        "\n",
        "# Let's see the resutls. The higher the bar is, the more important the feature is\n",
        "\n",
        "fig, ax = plt.subplots()\n",
        "decision_tree_importances.plot.bar(yerr=result_dt.importances_std, ax=ax)\n",
        "ax.set_title(\"Feature importances using permutation on costum DT\")\n",
        "ax.set_ylabel(\"Mean accuracy decrease\")\n",
        "fig.tight_layout()\n",
        "plt.show()"
      ],
      "metadata": {
        "colab": {
          "base_uri": "https://localhost:8080/",
          "height": 331
        },
        "id": "gVYt_T2vEZXj",
        "outputId": "bd659382-5386-41b8-86bf-7d49d449bfbc"
      },
      "execution_count": 26,
      "outputs": [
        {
          "output_type": "stream",
          "name": "stdout",
          "text": [
            "DT hyperparameters tuning Model Accuracy 2: 63.67%\n",
            "Elapsed time to compute the importances: 1.001 seconds\n"
          ]
        },
        {
          "output_type": "display_data",
          "data": {
            "text/plain": [
              "<Figure size 432x288 with 1 Axes>"
            ],
            "image/png": "[encoded data removed]"
          },
          "metadata": {
            "needs_background": "light"
          }
        }
      ]
    },
    {
      "cell_type": "markdown",
      "source": [
        "# 4th algorithm: Gradient Boosting\n"
      ],
      "metadata": {
        "id": "ZvYU5ub2FXr5"
      }
    }
  ]
}